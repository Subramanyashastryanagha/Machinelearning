{
 "cells": [
  {
   "cell_type": "markdown",
   "metadata": {},
   "source": [
    "# Melbourne housing analysis"
   ]
  },
  {
   "cell_type": "markdown",
   "metadata": {
    "id": "Rc0q5a4FWAsC"
   },
   "source": [
    "The information offered is from the city of Melbourne and includes the various characteristics of homes there as well as the areas where they are situated. The objective is to conduct a thorough analysis of this dataset and offer insightful information that will help one of Melbourne's top real estate firms make the process of buying and selling real estate easier. As a data scientist, I perform exploratory data analysis and produce beneficial insights for the company's stakeholders."
   ]
  },
  {
   "cell_type": "markdown",
   "metadata": {
    "id": "T0hFEdDhWh9o"
   },
   "source": [
    "## Data Description:\n",
    "\n",
    "The detailed data dictionary is given below:\n",
    "\n",
    "* Suburb - Suburb in which the property is located\n",
    "* Rooms - Number of rooms in the property\n",
    "* Type - Type of the property like \n",
    "    * h - house,cottage,villa, semi,terrace, \n",
    "    * t - townhouse,\n",
    "    * u - unit, duplex\n",
    "* SellerG - Name of the real estate agent who sold the property\n",
    "* Date - Date on which the property was sold\n",
    "* Distance - Distance of the property from CBD in kilometres. CBD is the central business district of the city.\n",
    "* Postcode - Postcode of the area\n",
    "* Bedroom - Number of bedrooms in the property\n",
    "* Bathroom - Number of bathrooms in the property\n",
    "* Car - Number of car parking spaces in the property\n",
    "* Landsize - Size of the land in square metres\n",
    "* BuildingArea - Size of the building in square metres \n",
    "* YearBuilt - Year in which the building was built\n",
    "* Regionname - Name of the region in which the property is located like Eastern Metropolitan, Western Metropolitan, Northern Victoria etc.\n",
    "* Propertycount - Number of properties that are present in the suburb\n",
    "* Price - price (in AUD) at which the property was sold\n",
    "\n",
    "The dataset has been taken from kaggle :https://www.kaggle.com/datasets/saadmehar/melbourne-housing-fullcsv"
   ]
  },
  {
   "cell_type": "markdown",
   "metadata": {
    "id": "UG7yg_SmXCcs"
   },
   "source": [
    "**Importing necessary libraries**"
   ]
  },
  {
   "cell_type": "code",
   "execution_count": 678,
   "metadata": {
    "id": "gkXid1F9XDK5"
   },
   "outputs": [],
   "source": [
    "# Libraries to handle the dataset or to manipulate dataset\n",
    "import numpy as np\n",
    "import pandas as pd\n",
    "\n",
    "# Libraries for data visualization\n",
    "import matplotlib.pyplot as plt\n",
    "import seaborn as sns\n",
    "# to restrict the float value to 3 decimal places\n",
    "pd.set_option('display.float_format', lambda x: '%.3f' % x)#lambda function to restrict any value x to 3decimal places\n"
   ]
  },
  {
   "cell_type": "markdown",
   "metadata": {
    "id": "TaoFjBZ6XS0p"
   },
   "source": [
    "**load the dataset**"
   ]
  },
  {
   "cell_type": "code",
   "execution_count": 679,
   "metadata": {
    "id": "y8Wmljv2XVg2"
   },
   "outputs": [],
   "source": [
    "data = pd.read_csv('C:/Users/Anagha/Downloads/archive (4)/Melbourne_housing_FULL.csv')# read_csv used to load the dataset"
   ]
  },
  {
   "cell_type": "markdown",
   "metadata": {
    "id": "hA_hQG4iZWAr"
   },
   "source": [
    "**View the first and last 5 rows of the dataset**"
   ]
  },
  {
   "cell_type": "code",
   "execution_count": 680,
   "metadata": {
    "colab": {
     "base_uri": "https://localhost:8080/",
     "height": 403
    },
    "id": "eKvTNg6YZXbl",
    "outputId": "0a05f730-9fba-470b-d82a-a757f1d47215"
   },
   "outputs": [
    {
     "data": {
      "text/html": [
       "<div>\n",
       "<style scoped>\n",
       "    .dataframe tbody tr th:only-of-type {\n",
       "        vertical-align: middle;\n",
       "    }\n",
       "\n",
       "    .dataframe tbody tr th {\n",
       "        vertical-align: top;\n",
       "    }\n",
       "\n",
       "    .dataframe thead th {\n",
       "        text-align: right;\n",
       "    }\n",
       "</style>\n",
       "<table border=\"1\" class=\"dataframe\">\n",
       "  <thead>\n",
       "    <tr style=\"text-align: right;\">\n",
       "      <th></th>\n",
       "      <th>Suburb</th>\n",
       "      <th>Address</th>\n",
       "      <th>Rooms</th>\n",
       "      <th>Type</th>\n",
       "      <th>Price</th>\n",
       "      <th>Method</th>\n",
       "      <th>SellerG</th>\n",
       "      <th>Date</th>\n",
       "      <th>Distance</th>\n",
       "      <th>Postcode</th>\n",
       "      <th>...</th>\n",
       "      <th>Bathroom</th>\n",
       "      <th>Car</th>\n",
       "      <th>Landsize</th>\n",
       "      <th>BuildingArea</th>\n",
       "      <th>YearBuilt</th>\n",
       "      <th>CouncilArea</th>\n",
       "      <th>Lattitude</th>\n",
       "      <th>Longtitude</th>\n",
       "      <th>Regionname</th>\n",
       "      <th>Propertycount</th>\n",
       "    </tr>\n",
       "  </thead>\n",
       "  <tbody>\n",
       "    <tr>\n",
       "      <th>0</th>\n",
       "      <td>Abbotsford</td>\n",
       "      <td>68 Studley St</td>\n",
       "      <td>2</td>\n",
       "      <td>h</td>\n",
       "      <td>NaN</td>\n",
       "      <td>SS</td>\n",
       "      <td>Jellis</td>\n",
       "      <td>3/09/2016</td>\n",
       "      <td>2.500</td>\n",
       "      <td>3067.000</td>\n",
       "      <td>...</td>\n",
       "      <td>1.000</td>\n",
       "      <td>1.000</td>\n",
       "      <td>126.000</td>\n",
       "      <td>NaN</td>\n",
       "      <td>NaN</td>\n",
       "      <td>Yarra City Council</td>\n",
       "      <td>-37.801</td>\n",
       "      <td>144.996</td>\n",
       "      <td>Northern Metropolitan</td>\n",
       "      <td>4019.000</td>\n",
       "    </tr>\n",
       "    <tr>\n",
       "      <th>1</th>\n",
       "      <td>Abbotsford</td>\n",
       "      <td>85 Turner St</td>\n",
       "      <td>2</td>\n",
       "      <td>h</td>\n",
       "      <td>1480000.000</td>\n",
       "      <td>S</td>\n",
       "      <td>Biggin</td>\n",
       "      <td>3/12/2016</td>\n",
       "      <td>2.500</td>\n",
       "      <td>3067.000</td>\n",
       "      <td>...</td>\n",
       "      <td>1.000</td>\n",
       "      <td>1.000</td>\n",
       "      <td>202.000</td>\n",
       "      <td>NaN</td>\n",
       "      <td>NaN</td>\n",
       "      <td>Yarra City Council</td>\n",
       "      <td>-37.800</td>\n",
       "      <td>144.998</td>\n",
       "      <td>Northern Metropolitan</td>\n",
       "      <td>4019.000</td>\n",
       "    </tr>\n",
       "    <tr>\n",
       "      <th>2</th>\n",
       "      <td>Abbotsford</td>\n",
       "      <td>25 Bloomburg St</td>\n",
       "      <td>2</td>\n",
       "      <td>h</td>\n",
       "      <td>1035000.000</td>\n",
       "      <td>S</td>\n",
       "      <td>Biggin</td>\n",
       "      <td>4/02/2016</td>\n",
       "      <td>2.500</td>\n",
       "      <td>3067.000</td>\n",
       "      <td>...</td>\n",
       "      <td>1.000</td>\n",
       "      <td>0.000</td>\n",
       "      <td>156.000</td>\n",
       "      <td>79.000</td>\n",
       "      <td>1900.000</td>\n",
       "      <td>Yarra City Council</td>\n",
       "      <td>-37.808</td>\n",
       "      <td>144.993</td>\n",
       "      <td>Northern Metropolitan</td>\n",
       "      <td>4019.000</td>\n",
       "    </tr>\n",
       "    <tr>\n",
       "      <th>3</th>\n",
       "      <td>Abbotsford</td>\n",
       "      <td>18/659 Victoria St</td>\n",
       "      <td>3</td>\n",
       "      <td>u</td>\n",
       "      <td>NaN</td>\n",
       "      <td>VB</td>\n",
       "      <td>Rounds</td>\n",
       "      <td>4/02/2016</td>\n",
       "      <td>2.500</td>\n",
       "      <td>3067.000</td>\n",
       "      <td>...</td>\n",
       "      <td>2.000</td>\n",
       "      <td>1.000</td>\n",
       "      <td>0.000</td>\n",
       "      <td>NaN</td>\n",
       "      <td>NaN</td>\n",
       "      <td>Yarra City Council</td>\n",
       "      <td>-37.811</td>\n",
       "      <td>145.012</td>\n",
       "      <td>Northern Metropolitan</td>\n",
       "      <td>4019.000</td>\n",
       "    </tr>\n",
       "    <tr>\n",
       "      <th>4</th>\n",
       "      <td>Abbotsford</td>\n",
       "      <td>5 Charles St</td>\n",
       "      <td>3</td>\n",
       "      <td>h</td>\n",
       "      <td>1465000.000</td>\n",
       "      <td>SP</td>\n",
       "      <td>Biggin</td>\n",
       "      <td>4/03/2017</td>\n",
       "      <td>2.500</td>\n",
       "      <td>3067.000</td>\n",
       "      <td>...</td>\n",
       "      <td>2.000</td>\n",
       "      <td>0.000</td>\n",
       "      <td>134.000</td>\n",
       "      <td>150.000</td>\n",
       "      <td>1900.000</td>\n",
       "      <td>Yarra City Council</td>\n",
       "      <td>-37.809</td>\n",
       "      <td>144.994</td>\n",
       "      <td>Northern Metropolitan</td>\n",
       "      <td>4019.000</td>\n",
       "    </tr>\n",
       "  </tbody>\n",
       "</table>\n",
       "<p>5 rows × 21 columns</p>\n",
       "</div>"
      ],
      "text/plain": [
       "       Suburb             Address  Rooms Type       Price Method SellerG  \\\n",
       "0  Abbotsford       68 Studley St      2    h         NaN     SS  Jellis   \n",
       "1  Abbotsford        85 Turner St      2    h 1480000.000      S  Biggin   \n",
       "2  Abbotsford     25 Bloomburg St      2    h 1035000.000      S  Biggin   \n",
       "3  Abbotsford  18/659 Victoria St      3    u         NaN     VB  Rounds   \n",
       "4  Abbotsford        5 Charles St      3    h 1465000.000     SP  Biggin   \n",
       "\n",
       "        Date  Distance  Postcode  ...  Bathroom   Car  Landsize  BuildingArea  \\\n",
       "0  3/09/2016     2.500  3067.000  ...     1.000 1.000   126.000           NaN   \n",
       "1  3/12/2016     2.500  3067.000  ...     1.000 1.000   202.000           NaN   \n",
       "2  4/02/2016     2.500  3067.000  ...     1.000 0.000   156.000        79.000   \n",
       "3  4/02/2016     2.500  3067.000  ...     2.000 1.000     0.000           NaN   \n",
       "4  4/03/2017     2.500  3067.000  ...     2.000 0.000   134.000       150.000   \n",
       "\n",
       "   YearBuilt         CouncilArea Lattitude  Longtitude             Regionname  \\\n",
       "0        NaN  Yarra City Council   -37.801     144.996  Northern Metropolitan   \n",
       "1        NaN  Yarra City Council   -37.800     144.998  Northern Metropolitan   \n",
       "2   1900.000  Yarra City Council   -37.808     144.993  Northern Metropolitan   \n",
       "3        NaN  Yarra City Council   -37.811     145.012  Northern Metropolitan   \n",
       "4   1900.000  Yarra City Council   -37.809     144.994  Northern Metropolitan   \n",
       "\n",
       "  Propertycount  \n",
       "0      4019.000  \n",
       "1      4019.000  \n",
       "2      4019.000  \n",
       "3      4019.000  \n",
       "4      4019.000  \n",
       "\n",
       "[5 rows x 21 columns]"
      ]
     },
     "execution_count": 680,
     "metadata": {},
     "output_type": "execute_result"
    }
   ],
   "source": [
    "data.head()# daa.head() displays the first 5 rows of the dataframe"
   ]
  },
  {
   "cell_type": "code",
   "execution_count": 681,
   "metadata": {
    "colab": {
     "base_uri": "https://localhost:8080/",
     "height": 403
    },
    "id": "kxVLEQEiZyWE",
    "outputId": "abcef897-3020-48e8-dda9-1f109227d796"
   },
   "outputs": [
    {
     "data": {
      "text/html": [
       "<div>\n",
       "<style scoped>\n",
       "    .dataframe tbody tr th:only-of-type {\n",
       "        vertical-align: middle;\n",
       "    }\n",
       "\n",
       "    .dataframe tbody tr th {\n",
       "        vertical-align: top;\n",
       "    }\n",
       "\n",
       "    .dataframe thead th {\n",
       "        text-align: right;\n",
       "    }\n",
       "</style>\n",
       "<table border=\"1\" class=\"dataframe\">\n",
       "  <thead>\n",
       "    <tr style=\"text-align: right;\">\n",
       "      <th></th>\n",
       "      <th>Suburb</th>\n",
       "      <th>Address</th>\n",
       "      <th>Rooms</th>\n",
       "      <th>Type</th>\n",
       "      <th>Price</th>\n",
       "      <th>Method</th>\n",
       "      <th>SellerG</th>\n",
       "      <th>Date</th>\n",
       "      <th>Distance</th>\n",
       "      <th>Postcode</th>\n",
       "      <th>...</th>\n",
       "      <th>Bathroom</th>\n",
       "      <th>Car</th>\n",
       "      <th>Landsize</th>\n",
       "      <th>BuildingArea</th>\n",
       "      <th>YearBuilt</th>\n",
       "      <th>CouncilArea</th>\n",
       "      <th>Lattitude</th>\n",
       "      <th>Longtitude</th>\n",
       "      <th>Regionname</th>\n",
       "      <th>Propertycount</th>\n",
       "    </tr>\n",
       "  </thead>\n",
       "  <tbody>\n",
       "    <tr>\n",
       "      <th>34852</th>\n",
       "      <td>Yarraville</td>\n",
       "      <td>13 Burns St</td>\n",
       "      <td>4</td>\n",
       "      <td>h</td>\n",
       "      <td>1480000.000</td>\n",
       "      <td>PI</td>\n",
       "      <td>Jas</td>\n",
       "      <td>24/02/2018</td>\n",
       "      <td>6.300</td>\n",
       "      <td>3013.000</td>\n",
       "      <td>...</td>\n",
       "      <td>1.000</td>\n",
       "      <td>3.000</td>\n",
       "      <td>593.000</td>\n",
       "      <td>NaN</td>\n",
       "      <td>NaN</td>\n",
       "      <td>Maribyrnong City Council</td>\n",
       "      <td>-37.811</td>\n",
       "      <td>144.885</td>\n",
       "      <td>Western Metropolitan</td>\n",
       "      <td>6543.000</td>\n",
       "    </tr>\n",
       "    <tr>\n",
       "      <th>34853</th>\n",
       "      <td>Yarraville</td>\n",
       "      <td>29A Murray St</td>\n",
       "      <td>2</td>\n",
       "      <td>h</td>\n",
       "      <td>888000.000</td>\n",
       "      <td>SP</td>\n",
       "      <td>Sweeney</td>\n",
       "      <td>24/02/2018</td>\n",
       "      <td>6.300</td>\n",
       "      <td>3013.000</td>\n",
       "      <td>...</td>\n",
       "      <td>2.000</td>\n",
       "      <td>1.000</td>\n",
       "      <td>98.000</td>\n",
       "      <td>104.000</td>\n",
       "      <td>2018.000</td>\n",
       "      <td>Maribyrnong City Council</td>\n",
       "      <td>-37.816</td>\n",
       "      <td>144.888</td>\n",
       "      <td>Western Metropolitan</td>\n",
       "      <td>6543.000</td>\n",
       "    </tr>\n",
       "    <tr>\n",
       "      <th>34854</th>\n",
       "      <td>Yarraville</td>\n",
       "      <td>147A Severn St</td>\n",
       "      <td>2</td>\n",
       "      <td>t</td>\n",
       "      <td>705000.000</td>\n",
       "      <td>S</td>\n",
       "      <td>Jas</td>\n",
       "      <td>24/02/2018</td>\n",
       "      <td>6.300</td>\n",
       "      <td>3013.000</td>\n",
       "      <td>...</td>\n",
       "      <td>1.000</td>\n",
       "      <td>2.000</td>\n",
       "      <td>220.000</td>\n",
       "      <td>120.000</td>\n",
       "      <td>2000.000</td>\n",
       "      <td>Maribyrnong City Council</td>\n",
       "      <td>-37.823</td>\n",
       "      <td>144.879</td>\n",
       "      <td>Western Metropolitan</td>\n",
       "      <td>6543.000</td>\n",
       "    </tr>\n",
       "    <tr>\n",
       "      <th>34855</th>\n",
       "      <td>Yarraville</td>\n",
       "      <td>12/37 Stephen St</td>\n",
       "      <td>3</td>\n",
       "      <td>h</td>\n",
       "      <td>1140000.000</td>\n",
       "      <td>SP</td>\n",
       "      <td>hockingstuart</td>\n",
       "      <td>24/02/2018</td>\n",
       "      <td>6.300</td>\n",
       "      <td>3013.000</td>\n",
       "      <td>...</td>\n",
       "      <td>NaN</td>\n",
       "      <td>NaN</td>\n",
       "      <td>NaN</td>\n",
       "      <td>NaN</td>\n",
       "      <td>NaN</td>\n",
       "      <td>Maribyrnong City Council</td>\n",
       "      <td>NaN</td>\n",
       "      <td>NaN</td>\n",
       "      <td>Western Metropolitan</td>\n",
       "      <td>6543.000</td>\n",
       "    </tr>\n",
       "    <tr>\n",
       "      <th>34856</th>\n",
       "      <td>Yarraville</td>\n",
       "      <td>3 Tarrengower St</td>\n",
       "      <td>2</td>\n",
       "      <td>h</td>\n",
       "      <td>1020000.000</td>\n",
       "      <td>PI</td>\n",
       "      <td>RW</td>\n",
       "      <td>24/02/2018</td>\n",
       "      <td>6.300</td>\n",
       "      <td>3013.000</td>\n",
       "      <td>...</td>\n",
       "      <td>1.000</td>\n",
       "      <td>0.000</td>\n",
       "      <td>250.000</td>\n",
       "      <td>103.000</td>\n",
       "      <td>1930.000</td>\n",
       "      <td>Maribyrnong City Council</td>\n",
       "      <td>-37.818</td>\n",
       "      <td>144.894</td>\n",
       "      <td>Western Metropolitan</td>\n",
       "      <td>6543.000</td>\n",
       "    </tr>\n",
       "  </tbody>\n",
       "</table>\n",
       "<p>5 rows × 21 columns</p>\n",
       "</div>"
      ],
      "text/plain": [
       "           Suburb           Address  Rooms Type       Price Method  \\\n",
       "34852  Yarraville       13 Burns St      4    h 1480000.000     PI   \n",
       "34853  Yarraville     29A Murray St      2    h  888000.000     SP   \n",
       "34854  Yarraville    147A Severn St      2    t  705000.000      S   \n",
       "34855  Yarraville  12/37 Stephen St      3    h 1140000.000     SP   \n",
       "34856  Yarraville  3 Tarrengower St      2    h 1020000.000     PI   \n",
       "\n",
       "             SellerG        Date  Distance  Postcode  ...  Bathroom   Car  \\\n",
       "34852            Jas  24/02/2018     6.300  3013.000  ...     1.000 3.000   \n",
       "34853        Sweeney  24/02/2018     6.300  3013.000  ...     2.000 1.000   \n",
       "34854            Jas  24/02/2018     6.300  3013.000  ...     1.000 2.000   \n",
       "34855  hockingstuart  24/02/2018     6.300  3013.000  ...       NaN   NaN   \n",
       "34856             RW  24/02/2018     6.300  3013.000  ...     1.000 0.000   \n",
       "\n",
       "       Landsize  BuildingArea  YearBuilt               CouncilArea Lattitude  \\\n",
       "34852   593.000           NaN        NaN  Maribyrnong City Council   -37.811   \n",
       "34853    98.000       104.000   2018.000  Maribyrnong City Council   -37.816   \n",
       "34854   220.000       120.000   2000.000  Maribyrnong City Council   -37.823   \n",
       "34855       NaN           NaN        NaN  Maribyrnong City Council       NaN   \n",
       "34856   250.000       103.000   1930.000  Maribyrnong City Council   -37.818   \n",
       "\n",
       "       Longtitude            Regionname Propertycount  \n",
       "34852     144.885  Western Metropolitan      6543.000  \n",
       "34853     144.888  Western Metropolitan      6543.000  \n",
       "34854     144.879  Western Metropolitan      6543.000  \n",
       "34855         NaN  Western Metropolitan      6543.000  \n",
       "34856     144.894  Western Metropolitan      6543.000  \n",
       "\n",
       "[5 rows x 21 columns]"
      ]
     },
     "execution_count": 681,
     "metadata": {},
     "output_type": "execute_result"
    }
   ],
   "source": [
    "data.tail()# displays the last 5 rows of dataset"
   ]
  },
  {
   "cell_type": "markdown",
   "metadata": {
    "id": "FUMwCS_ZZ5T3"
   },
   "source": [
    "**shape of the dataset**"
   ]
  },
  {
   "cell_type": "code",
   "execution_count": 682,
   "metadata": {
    "colab": {
     "base_uri": "https://localhost:8080/"
    },
    "id": "ibArbzSqZ7Q4",
    "outputId": "b9e0adc5-097e-41f2-e15e-7d3b1bcfffaa"
   },
   "outputs": [
    {
     "name": "stdout",
     "output_type": "stream",
     "text": [
      "There are 34857 rows and 21 columns\n"
     ]
    }
   ],
   "source": [
    "# checking shape of the data\n",
    "print(\"There are\", data.shape[0], 'rows and', data.shape[1], \"columns\")"
   ]
  },
  {
   "cell_type": "markdown",
   "metadata": {
    "id": "MGSV9QugaGhc"
   },
   "source": [
    "**Checking the data types of the columns for the dataset**"
   ]
  },
  {
   "cell_type": "code",
   "execution_count": 683,
   "metadata": {
    "colab": {
     "base_uri": "https://localhost:8080/"
    },
    "id": "K4u58maMaJIm",
    "outputId": "d3e7d051-ddc6-41ff-e562-f0ae8641aae2"
   },
   "outputs": [
    {
     "data": {
      "text/plain": [
       "Suburb            object\n",
       "Address           object\n",
       "Rooms              int64\n",
       "Type              object\n",
       "Price            float64\n",
       "Method            object\n",
       "SellerG           object\n",
       "Date              object\n",
       "Distance         float64\n",
       "Postcode         float64\n",
       "Bedroom2         float64\n",
       "Bathroom         float64\n",
       "Car              float64\n",
       "Landsize         float64\n",
       "BuildingArea     float64\n",
       "YearBuilt        float64\n",
       "CouncilArea       object\n",
       "Lattitude        float64\n",
       "Longtitude       float64\n",
       "Regionname        object\n",
       "Propertycount    float64\n",
       "dtype: object"
      ]
     },
     "execution_count": 683,
     "metadata": {},
     "output_type": "execute_result"
    }
   ],
   "source": [
    "data.dtypes#to find the data types"
   ]
  },
  {
   "cell_type": "code",
   "execution_count": 684,
   "metadata": {
    "colab": {
     "base_uri": "https://localhost:8080/"
    },
    "id": "N3oH6oDuakYd",
    "outputId": "fa3c29f0-d9fa-43bb-e270-35eaf1501e54"
   },
   "outputs": [
    {
     "name": "stdout",
     "output_type": "stream",
     "text": [
      "<class 'pandas.core.frame.DataFrame'>\n",
      "RangeIndex: 34857 entries, 0 to 34856\n",
      "Data columns (total 21 columns):\n",
      " #   Column         Non-Null Count  Dtype  \n",
      "---  ------         --------------  -----  \n",
      " 0   Suburb         34857 non-null  object \n",
      " 1   Address        34857 non-null  object \n",
      " 2   Rooms          34857 non-null  int64  \n",
      " 3   Type           34857 non-null  object \n",
      " 4   Price          27247 non-null  float64\n",
      " 5   Method         34857 non-null  object \n",
      " 6   SellerG        34857 non-null  object \n",
      " 7   Date           34857 non-null  object \n",
      " 8   Distance       34856 non-null  float64\n",
      " 9   Postcode       34856 non-null  float64\n",
      " 10  Bedroom2       26640 non-null  float64\n",
      " 11  Bathroom       26631 non-null  float64\n",
      " 12  Car            26129 non-null  float64\n",
      " 13  Landsize       23047 non-null  float64\n",
      " 14  BuildingArea   13742 non-null  float64\n",
      " 15  YearBuilt      15551 non-null  float64\n",
      " 16  CouncilArea    34854 non-null  object \n",
      " 17  Lattitude      26881 non-null  float64\n",
      " 18  Longtitude     26881 non-null  float64\n",
      " 19  Regionname     34854 non-null  object \n",
      " 20  Propertycount  34854 non-null  float64\n",
      "dtypes: float64(12), int64(1), object(8)\n",
      "memory usage: 5.6+ MB\n"
     ]
    }
   ],
   "source": [
    "data.info()# this is another way to find the datatypes and data set's information"
   ]
  },
  {
   "cell_type": "markdown",
   "metadata": {
    "id": "p6-Gig1Ia36h"
   },
   "source": [
    "* There are 13 numerical columns in the data and 8 object type columns.\n",
    "* Date column is being read as object type column but it should be in date-time format."
   ]
  },
  {
   "cell_type": "code",
   "execution_count": 685,
   "metadata": {
    "colab": {
     "base_uri": "https://localhost:8080/"
    },
    "id": "hJV7FxkObqae",
    "outputId": "e3aa2137-b6d3-4ebd-c864-90b62ef3f56a"
   },
   "outputs": [],
   "source": [
    "# changing the data type of Date column\n",
    "data['Date'] = pd.to_datetime(data['Date'])"
   ]
  },
  {
   "cell_type": "code",
   "execution_count": 686,
   "metadata": {
    "colab": {
     "base_uri": "https://localhost:8080/"
    },
    "id": "oa6SPkfNbvkJ",
    "outputId": "5b362a3f-ec98-4609-8e7a-104d16a7c29c"
   },
   "outputs": [
    {
     "name": "stdout",
     "output_type": "stream",
     "text": [
      "<class 'pandas.core.frame.DataFrame'>\n",
      "RangeIndex: 34857 entries, 0 to 34856\n",
      "Data columns (total 21 columns):\n",
      " #   Column         Non-Null Count  Dtype         \n",
      "---  ------         --------------  -----         \n",
      " 0   Suburb         34857 non-null  object        \n",
      " 1   Address        34857 non-null  object        \n",
      " 2   Rooms          34857 non-null  int64         \n",
      " 3   Type           34857 non-null  object        \n",
      " 4   Price          27247 non-null  float64       \n",
      " 5   Method         34857 non-null  object        \n",
      " 6   SellerG        34857 non-null  object        \n",
      " 7   Date           34857 non-null  datetime64[ns]\n",
      " 8   Distance       34856 non-null  float64       \n",
      " 9   Postcode       34856 non-null  float64       \n",
      " 10  Bedroom2       26640 non-null  float64       \n",
      " 11  Bathroom       26631 non-null  float64       \n",
      " 12  Car            26129 non-null  float64       \n",
      " 13  Landsize       23047 non-null  float64       \n",
      " 14  BuildingArea   13742 non-null  float64       \n",
      " 15  YearBuilt      15551 non-null  float64       \n",
      " 16  CouncilArea    34854 non-null  object        \n",
      " 17  Lattitude      26881 non-null  float64       \n",
      " 18  Longtitude     26881 non-null  float64       \n",
      " 19  Regionname     34854 non-null  object        \n",
      " 20  Propertycount  34854 non-null  float64       \n",
      "dtypes: datetime64[ns](1), float64(12), int64(1), object(7)\n",
      "memory usage: 5.6+ MB\n"
     ]
    }
   ],
   "source": [
    "# let's check the data type of columns again\n",
    "data.info()"
   ]
  },
  {
   "cell_type": "markdown",
   "metadata": {
    "id": "ISbl_9Yjc4px"
   },
   "source": [
    "* now we can see that the datatype of the Date field has been changed to datetime\n",
    "* We observe that some columns have less entries that other columns (less than 34857 rows) which indicates the presence of missing values in the data."
   ]
  },
  {
   "cell_type": "markdown",
   "metadata": {
    "id": "DTymXenudcmI"
   },
   "source": [
    "**Checking for missing values in the data**"
   ]
  },
  {
   "cell_type": "code",
   "execution_count": 687,
   "metadata": {
    "colab": {
     "base_uri": "https://localhost:8080/"
    },
    "id": "PMSZs9cKdBkW",
    "outputId": "86d258b3-3c4d-4418-825b-70a9ef230718"
   },
   "outputs": [
    {
     "data": {
      "text/plain": [
       "Suburb               0\n",
       "Address              0\n",
       "Rooms                0\n",
       "Type                 0\n",
       "Price             7610\n",
       "Method               0\n",
       "SellerG              0\n",
       "Date                 0\n",
       "Distance             1\n",
       "Postcode             1\n",
       "Bedroom2          8217\n",
       "Bathroom          8226\n",
       "Car               8728\n",
       "Landsize         11810\n",
       "BuildingArea     21115\n",
       "YearBuilt        19306\n",
       "CouncilArea          3\n",
       "Lattitude         7976\n",
       "Longtitude        7976\n",
       "Regionname           3\n",
       "Propertycount        3\n",
       "dtype: int64"
      ]
     },
     "execution_count": 687,
     "metadata": {},
     "output_type": "execute_result"
    }
   ],
   "source": [
    "data.isnull().sum()# isnull() is used to find if there is any null value, here we are finding summ of null values for each coloumn"
   ]
  },
  {
   "cell_type": "markdown",
   "metadata": {
    "id": "0Vw127u_dmz_"
   },
   "source": [
    "* There are missing values in 14 columns of the data.\n",
    "* We will treat these missing values after understanding the distributions of features in the data, the relationships that exist in the data. This will help us replace these values more effectively."
   ]
  },
  {
   "cell_type": "markdown",
   "metadata": {
    "id": "YoMtthkVd8Mr"
   },
   "source": [
    "**Checking for duplicate entries in the dataset**"
   ]
  },
  {
   "cell_type": "code",
   "execution_count": 688,
   "metadata": {
    "colab": {
     "base_uri": "https://localhost:8080/"
    },
    "id": "pJvPumVGd-e_",
    "outputId": "5dae5c88-5bec-401c-984d-54272a80f666"
   },
   "outputs": [
    {
     "data": {
      "text/plain": [
       "1"
      ]
     },
     "execution_count": 688,
     "metadata": {},
     "output_type": "execute_result"
    }
   ],
   "source": [
    "data.duplicated().sum()# to check if the is any duplicated entries in the data frame"
   ]
  },
  {
   "cell_type": "markdown",
   "metadata": {
    "id": "iY7wJpFCeEcS"
   },
   "source": [
    "* There is only 1 duplicate entry in the dataset. Let's remove them."
   ]
  },
  {
   "cell_type": "code",
   "execution_count": 689,
   "metadata": {
    "id": "AiK3RzKVeJzg"
   },
   "outputs": [],
   "source": [
    "# dropping duplicate entries from the data\n",
    "data.drop_duplicates(inplace=True)\n",
    "\n",
    "# resetting the index of data frame since 1 row will be removed\n",
    "data.reset_index(drop=True,inplace=True)"
   ]
  },
  {
   "cell_type": "markdown",
   "metadata": {
    "id": "NYfnlHSSeUSi"
   },
   "source": [
    "**Let's check the statistical summary of the data.**"
   ]
  },
  {
   "cell_type": "code",
   "execution_count": 690,
   "metadata": {
    "colab": {
     "base_uri": "https://localhost:8080/",
     "height": 501
    },
    "id": "JeS3LXRteVCG",
    "outputId": "25776f82-e540-4701-c15c-0970fea5b4a1"
   },
   "outputs": [
    {
     "data": {
      "text/html": [
       "<div>\n",
       "<style scoped>\n",
       "    .dataframe tbody tr th:only-of-type {\n",
       "        vertical-align: middle;\n",
       "    }\n",
       "\n",
       "    .dataframe tbody tr th {\n",
       "        vertical-align: top;\n",
       "    }\n",
       "\n",
       "    .dataframe thead th {\n",
       "        text-align: right;\n",
       "    }\n",
       "</style>\n",
       "<table border=\"1\" class=\"dataframe\">\n",
       "  <thead>\n",
       "    <tr style=\"text-align: right;\">\n",
       "      <th></th>\n",
       "      <th>Rooms</th>\n",
       "      <th>Price</th>\n",
       "      <th>Distance</th>\n",
       "      <th>Postcode</th>\n",
       "      <th>Bedroom2</th>\n",
       "      <th>Bathroom</th>\n",
       "      <th>Car</th>\n",
       "      <th>Landsize</th>\n",
       "      <th>BuildingArea</th>\n",
       "      <th>YearBuilt</th>\n",
       "      <th>Lattitude</th>\n",
       "      <th>Longtitude</th>\n",
       "      <th>Propertycount</th>\n",
       "    </tr>\n",
       "  </thead>\n",
       "  <tbody>\n",
       "    <tr>\n",
       "      <th>count</th>\n",
       "      <td>34856.000</td>\n",
       "      <td>27247.000</td>\n",
       "      <td>34855.000</td>\n",
       "      <td>34855.000</td>\n",
       "      <td>26639.000</td>\n",
       "      <td>26630.000</td>\n",
       "      <td>26128.000</td>\n",
       "      <td>23046.000</td>\n",
       "      <td>13741.000</td>\n",
       "      <td>15550.000</td>\n",
       "      <td>26880.000</td>\n",
       "      <td>26880.000</td>\n",
       "      <td>34853.000</td>\n",
       "    </tr>\n",
       "    <tr>\n",
       "      <th>mean</th>\n",
       "      <td>3.031</td>\n",
       "      <td>1050173.345</td>\n",
       "      <td>11.185</td>\n",
       "      <td>3116.062</td>\n",
       "      <td>3.085</td>\n",
       "      <td>1.625</td>\n",
       "      <td>1.729</td>\n",
       "      <td>593.607</td>\n",
       "      <td>160.252</td>\n",
       "      <td>1965.288</td>\n",
       "      <td>-37.811</td>\n",
       "      <td>145.002</td>\n",
       "      <td>7572.963</td>\n",
       "    </tr>\n",
       "    <tr>\n",
       "      <th>std</th>\n",
       "      <td>0.970</td>\n",
       "      <td>641467.130</td>\n",
       "      <td>6.789</td>\n",
       "      <td>109.025</td>\n",
       "      <td>0.981</td>\n",
       "      <td>0.724</td>\n",
       "      <td>1.011</td>\n",
       "      <td>3398.915</td>\n",
       "      <td>401.281</td>\n",
       "      <td>37.328</td>\n",
       "      <td>0.090</td>\n",
       "      <td>0.120</td>\n",
       "      <td>4428.132</td>\n",
       "    </tr>\n",
       "    <tr>\n",
       "      <th>min</th>\n",
       "      <td>1.000</td>\n",
       "      <td>85000.000</td>\n",
       "      <td>0.000</td>\n",
       "      <td>3000.000</td>\n",
       "      <td>0.000</td>\n",
       "      <td>0.000</td>\n",
       "      <td>0.000</td>\n",
       "      <td>0.000</td>\n",
       "      <td>0.000</td>\n",
       "      <td>1196.000</td>\n",
       "      <td>-38.190</td>\n",
       "      <td>144.424</td>\n",
       "      <td>83.000</td>\n",
       "    </tr>\n",
       "    <tr>\n",
       "      <th>25%</th>\n",
       "      <td>2.000</td>\n",
       "      <td>635000.000</td>\n",
       "      <td>6.400</td>\n",
       "      <td>3051.000</td>\n",
       "      <td>2.000</td>\n",
       "      <td>1.000</td>\n",
       "      <td>1.000</td>\n",
       "      <td>224.000</td>\n",
       "      <td>102.000</td>\n",
       "      <td>1940.000</td>\n",
       "      <td>-37.863</td>\n",
       "      <td>144.934</td>\n",
       "      <td>4385.000</td>\n",
       "    </tr>\n",
       "    <tr>\n",
       "      <th>50%</th>\n",
       "      <td>3.000</td>\n",
       "      <td>870000.000</td>\n",
       "      <td>10.300</td>\n",
       "      <td>3103.000</td>\n",
       "      <td>3.000</td>\n",
       "      <td>2.000</td>\n",
       "      <td>2.000</td>\n",
       "      <td>521.000</td>\n",
       "      <td>136.000</td>\n",
       "      <td>1970.000</td>\n",
       "      <td>-37.808</td>\n",
       "      <td>145.008</td>\n",
       "      <td>6763.000</td>\n",
       "    </tr>\n",
       "    <tr>\n",
       "      <th>75%</th>\n",
       "      <td>4.000</td>\n",
       "      <td>1295000.000</td>\n",
       "      <td>14.000</td>\n",
       "      <td>3156.000</td>\n",
       "      <td>4.000</td>\n",
       "      <td>2.000</td>\n",
       "      <td>2.000</td>\n",
       "      <td>670.000</td>\n",
       "      <td>188.000</td>\n",
       "      <td>2000.000</td>\n",
       "      <td>-37.754</td>\n",
       "      <td>145.072</td>\n",
       "      <td>10412.000</td>\n",
       "    </tr>\n",
       "    <tr>\n",
       "      <th>max</th>\n",
       "      <td>16.000</td>\n",
       "      <td>11200000.000</td>\n",
       "      <td>48.100</td>\n",
       "      <td>3978.000</td>\n",
       "      <td>30.000</td>\n",
       "      <td>12.000</td>\n",
       "      <td>26.000</td>\n",
       "      <td>433014.000</td>\n",
       "      <td>44515.000</td>\n",
       "      <td>2106.000</td>\n",
       "      <td>-37.390</td>\n",
       "      <td>145.526</td>\n",
       "      <td>21650.000</td>\n",
       "    </tr>\n",
       "  </tbody>\n",
       "</table>\n",
       "</div>"
      ],
      "text/plain": [
       "          Rooms        Price  Distance  Postcode  Bedroom2  Bathroom  \\\n",
       "count 34856.000    27247.000 34855.000 34855.000 26639.000 26630.000   \n",
       "mean      3.031  1050173.345    11.185  3116.062     3.085     1.625   \n",
       "std       0.970   641467.130     6.789   109.025     0.981     0.724   \n",
       "min       1.000    85000.000     0.000  3000.000     0.000     0.000   \n",
       "25%       2.000   635000.000     6.400  3051.000     2.000     1.000   \n",
       "50%       3.000   870000.000    10.300  3103.000     3.000     2.000   \n",
       "75%       4.000  1295000.000    14.000  3156.000     4.000     2.000   \n",
       "max      16.000 11200000.000    48.100  3978.000    30.000    12.000   \n",
       "\n",
       "            Car   Landsize  BuildingArea  YearBuilt  Lattitude  Longtitude  \\\n",
       "count 26128.000  23046.000     13741.000  15550.000  26880.000   26880.000   \n",
       "mean      1.729    593.607       160.252   1965.288    -37.811     145.002   \n",
       "std       1.011   3398.915       401.281     37.328      0.090       0.120   \n",
       "min       0.000      0.000         0.000   1196.000    -38.190     144.424   \n",
       "25%       1.000    224.000       102.000   1940.000    -37.863     144.934   \n",
       "50%       2.000    521.000       136.000   1970.000    -37.808     145.008   \n",
       "75%       2.000    670.000       188.000   2000.000    -37.754     145.072   \n",
       "max      26.000 433014.000     44515.000   2106.000    -37.390     145.526   \n",
       "\n",
       "       Propertycount  \n",
       "count      34853.000  \n",
       "mean        7572.963  \n",
       "std         4428.132  \n",
       "min           83.000  \n",
       "25%         4385.000  \n",
       "50%         6763.000  \n",
       "75%        10412.000  \n",
       "max        21650.000  "
      ]
     },
     "execution_count": 690,
     "metadata": {},
     "output_type": "execute_result"
    }
   ],
   "source": [
    "data.describe()# describe is used to get the data of the numerical coloumns we get mean ,standard deviation etc."
   ]
  },
  {
   "cell_type": "markdown",
   "metadata": {
    "id": "AXY2dn9yfB4M"
   },
   "source": [
    "* `Rooms:` An average property has three rooms. Less than or equal to 4 rooms are present in 75% of the houses. There are some properties with a maximum room count of 16.\n",
    "* `Distance`: The median distance between properties and the CBD is 10.3 kilometers, while the average distance is 11.185 kilometers. The data's greatest value and 75% percentile are separated by a wide margin, which suggests this column may contain outliers.\n",
    "* `Landsize`: The mean and median land sizes in the Landsize column, which are 593.60 and 521 meters, respectively, have a very large standard deviation. Additionally, the data's greatest value and 75% percentile are separated by a wide margin, suggesting that this column may contain outliers.\n",
    "* `Propertycount`:A suburb typically contains 7572 homes. The column has a significant 4428.132 unit standard deviation.\n",
    "* `Price`: The cost of a home is AUD 1050173.345 on average. The average cost is AUD 870000. The data's greatest value and 75% percentile are separated by a wide margin, which suggests this column may contain outliers."
   ]
  },
  {
   "cell_type": "code",
   "execution_count": 691,
   "metadata": {
    "colab": {
     "base_uri": "https://localhost:8080/"
    },
    "id": "tAPvcze9g9x_",
    "outputId": "37f8978d-f56a-4d03-8da6-3d0c17de739c"
   },
   "outputs": [
    {
     "data": {
      "text/plain": [
       "211"
      ]
     },
     "execution_count": 691,
     "metadata": {},
     "output_type": "execute_result"
    }
   ],
   "source": [
    "# let's check the total number of unique values in the Postcode column\n",
    "data['Postcode'].nunique()\n",
    "\n"
   ]
  },
  {
   "cell_type": "markdown",
   "metadata": {
    "id": "hdO-Sq0hhFfu"
   },
   "source": [
    "* There are a total of 211 different postcodes in the data."
   ]
  },
  {
   "cell_type": "markdown",
   "metadata": {
    "id": "1PODeefy0a7E"
   },
   "source": [
    "**Let's check the unique count of categorical levels in each column**"
   ]
  },
  {
   "cell_type": "code",
   "execution_count": 692,
   "metadata": {
    "colab": {
     "base_uri": "https://localhost:8080/"
    },
    "id": "EP7itrRD0bj_",
    "outputId": "9022be9c-4876-40ee-ae87-98a71f56c700"
   },
   "outputs": [
    {
     "name": "stdout",
     "output_type": "stream",
     "text": [
      "Reservoir         844\n",
      "Bentleigh East    583\n",
      "Richmond          552\n",
      "Glen Iris         491\n",
      "Preston           485\n",
      "                 ... \n",
      "viewbank            1\n",
      "Wandin North        1\n",
      "Menzies Creek       1\n",
      "Guys Hill           1\n",
      "Belgrave            1\n",
      "Name: Suburb, Length: 351, dtype: int64\n",
      "--------------------------------------------------\n",
      "h    23980\n",
      "u     7297\n",
      "t     3579\n",
      "Name: Type, dtype: int64\n",
      "--------------------------------------------------\n",
      "Jellis                  3358\n",
      "Nelson                  3236\n",
      "Barry                   3235\n",
      "hockingstuart           2623\n",
      "Marshall                2027\n",
      "                        ... \n",
      "T                          1\n",
      "Unity                      1\n",
      "Zahn                       1\n",
      "PSP                        1\n",
      "hockingstuart/Cayzer       1\n",
      "Name: SellerG, Length: 388, dtype: int64\n",
      "--------------------------------------------------\n",
      "Southern Metropolitan         11836\n",
      "Northern Metropolitan          9557\n",
      "Western Metropolitan           6799\n",
      "Eastern Metropolitan           4376\n",
      "South-Eastern Metropolitan     1739\n",
      "Eastern Victoria                228\n",
      "Northern Victoria               203\n",
      "Western Victoria                115\n",
      "Name: Regionname, dtype: int64\n",
      "--------------------------------------------------\n"
     ]
    }
   ],
   "source": [
    "# Making a list of all categorical variables\n",
    "cat_cols =  ['Suburb', 'Type', 'SellerG', 'Regionname']\n",
    "\n",
    "# Printing the count of unique categorical levels in each column\n",
    "for column in cat_cols:\n",
    "    print(data[column].value_counts())# here it counts unique values of each coloumn one by one.\n",
    "    print(\"-\" * 50)"
   ]
  },
  {
   "cell_type": "markdown",
   "metadata": {
    "id": "bBPoZJhU03XX"
   },
   "source": [
    "**Observations**\n",
    "* Highest number of the properties are in Reservoir suburb followed by properties in Bentleigh East suburb.\n",
    "* Most of the properties are of type 'h' that is houses/cottages/villas, etc followed by  properties of type 'u' that is unit/duplex. The least number is of type 't' that is townhouses.\n",
    "* Top 5 sellers of properties are  -  Jellis,Nelson, Barry, hockingstuart, and marshall.\n",
    "* 11836 of the properties are in Southern Metropolitan followed by 9557 in Northern Metropolitan, and 9557 in Western Metropolitan. This shows that our analysis will be biased towards Metropolitan regions than Victoria regions as around 98% of the data points are from Metropolitan region."
   ]
  },
  {
   "cell_type": "markdown",
   "metadata": {
    "id": "dvEC_WoSs45F"
   },
   "source": [
    "#**univariate analysis to get to know each coloumns**"
   ]
  },
  {
   "cell_type": "code",
   "execution_count": 693,
   "metadata": {
    "colab": {
     "base_uri": "https://localhost:8080/",
     "height": 541
    },
    "id": "ewt2TaY1s8nc",
    "outputId": "d3296d65-ce37-4305-a861-8e4d5a81682e"
   },
   "outputs": [
    {
     "data": {
      "image/png": "[encoded data removed]",
      "text/plain": [
       "<Figure size 432x288 with 1 Axes>"
      ]
     },
     "metadata": {
      "needs_background": "light"
     },
     "output_type": "display_data"
    }
   ],
   "source": [
    "#using seaborn library to plot the boxplot for distance coloumn\n",
    "sns.boxplot(data=data,x='Distance')\n",
    "plt.show()"
   ]
  },
  {
   "cell_type": "markdown",
   "metadata": {
    "id": "0ksnulmxtSJG"
   },
   "source": [
    "* There are many outliers present in this column. \n",
    "* Values over 25 kilometers are shown as outliers in the boxplot, showing that numerous properties are at least 25 kilometers from the center."
   ]
  },
  {
   "cell_type": "code",
   "execution_count": 694,
   "metadata": {
    "colab": {
     "base_uri": "https://localhost:8080/",
     "height": 631
    },
    "id": "Ftrr8iYeta8t",
    "outputId": "68e72751-0b7a-4467-905f-f2ff01195c59"
   },
   "outputs": [
    {
     "data": {
      "image/png": "[encoded data removed]",
      "text/plain": [
       "<Figure size 432x288 with 1 Axes>"
      ]
     },
     "metadata": {
      "needs_background": "light"
     },
     "output_type": "display_data"
    }
   ],
   "source": [
    "sns.boxplot(data=data,x='Landsize')\n",
    "plt.show()"
   ]
  },
  {
   "cell_type": "markdown",
   "metadata": {
    "id": "d-ziTtBxtlaM"
   },
   "source": [
    "  * There are many outliers present in this column. Some properties have a landsize of more than 40000 sq meters. These value seems to be very high."
   ]
  },
  {
   "cell_type": "code",
   "execution_count": 695,
   "metadata": {
    "colab": {
     "base_uri": "https://localhost:8080/",
     "height": 631
    },
    "id": "NPEN1UxQvOxH",
    "outputId": "0f731d77-53a8-4043-a4ca-dbf2ac92934e"
   },
   "outputs": [
    {
     "data": {
      "image/png": "[encoded data removed]",
      "text/plain": [
       "<Figure size 360x360 with 1 Axes>"
      ]
     },
     "metadata": {
      "needs_background": "light"
     },
     "output_type": "display_data"
    },
    {
     "data": {
      "image/png": "[encoded data removed]",
      "text/plain": [
       "<Figure size 432x288 with 1 Axes>"
      ]
     },
     "metadata": {
      "needs_background": "light"
     },
     "output_type": "display_data"
    }
   ],
   "source": [
    "sns.displot(data=data,x='BuildingArea',kind='kde')\n",
    "plt.show()\n",
    "sns.boxplot(data=data,x='BuildingArea')\n",
    "plt.show()"
   ]
  },
  {
   "cell_type": "markdown",
   "metadata": {
    "id": "XzbfLPWKvSDS"
   },
   "source": [
    "* The distribution of BuildingArea is similar to Landsize that is right skewed.\n",
    "* It has many outliers. \n",
    "* There are values above 4000 sq meters which is high."
   ]
  },
  {
   "cell_type": "code",
   "execution_count": 696,
   "metadata": {
    "colab": {
     "base_uri": "https://localhost:8080/",
     "height": 541
    },
    "id": "J2xDpedMveuT",
    "outputId": "9e68f6db-b2bc-40c1-ef2b-51e9c8572bd6"
   },
   "outputs": [
    {
     "data": {
      "image/png": "[encoded data removed]",
      "text/plain": [
       "<Figure size 432x288 with 1 Axes>"
      ]
     },
     "metadata": {
      "needs_background": "light"
     },
     "output_type": "display_data"
    }
   ],
   "source": [
    "sns.boxplot(data=data,x='Price')#using seaborn library to plot the boxplot for price coloumn\n",
    "plt.show()"
   ]
  },
  {
   "cell_type": "markdown",
   "metadata": {
    "id": "M5lW64xjvii2"
   },
   "source": [
    "* There are many outliers in this variable and the values above 2000000 are being represented as outliers by the boxplot. \n"
   ]
  },
  {
   "cell_type": "code",
   "execution_count": 697,
   "metadata": {
    "colab": {
     "base_uri": "https://localhost:8080/",
     "height": 279
    },
    "id": "MsCP4uR3vrPf",
    "outputId": "9bbb183d-ea2e-4212-8448-b4a2c516e8cf"
   },
   "outputs": [
    {
     "data": {
      "image/png": "[encoded data removed]",
      "text/plain": [
       "<Figure size 432x288 with 1 Axes>"
      ]
     },
     "metadata": {
      "needs_background": "light"
     },
     "output_type": "display_data"
    }
   ],
   "source": [
    "sns.boxplot(data=data,x='Rooms')#using seaborn library to plot the boxplot for rooms coloumn\n",
    "plt.show()"
   ]
  },
  {
   "cell_type": "markdown",
   "metadata": {
    "id": "ASjPpTd-vwta"
   },
   "source": [
    "* Properties with more than 7 rooms are being represented as outliers by the boxplot.\n"
   ]
  },
  {
   "cell_type": "code",
   "execution_count": 698,
   "metadata": {
    "colab": {
     "base_uri": "https://localhost:8080/"
    },
    "id": "hmILH93VzCIw",
    "outputId": "2a9bf8bc-68e5-40aa-b4a4-7041bb116ae2"
   },
   "outputs": [
    {
     "data": {
      "text/plain": [
       "(33, 21)"
      ]
     },
     "execution_count": 698,
     "metadata": {},
     "output_type": "execute_result"
    }
   ],
   "source": [
    "data.loc[data['Rooms']>7].shape #gives the number of rooms that have more than 7 rooms."
   ]
  },
  {
   "cell_type": "code",
   "execution_count": 699,
   "metadata": {
    "colab": {
     "base_uri": "https://localhost:8080/",
     "height": 406
    },
    "id": "d1q9G0F-zbeT",
    "outputId": "f67f34e7-12ed-4871-9dcc-08f330726897"
   },
   "outputs": [
    {
     "data": {
      "image/png": "[encoded data removed]",
      "text/plain": [
       "<Figure size 432x288 with 1 Axes>"
      ]
     },
     "metadata": {
      "needs_background": "light"
     },
     "output_type": "display_data"
    }
   ],
   "source": [
    "sns.countplot(data=data,x='Regionname')#from seaborn library using countplot \n",
    "plt.xticks(rotation=90)#gives the naming and rotating them to 90 degree\n",
    "plt.show()#shows an image"
   ]
  },
  {
   "cell_type": "markdown",
   "metadata": {
    "id": "XfhwIXnZzkYj"
   },
   "source": [
    "* Eastern, Northern, and Western Victoria have very less number of properties.\n",
    "* Southern and Northern Metropolitan have the most number of properties."
   ]
  },
  {
   "cell_type": "markdown",
   "metadata": {
    "id": "4ybr7JsT2P3f"
   },
   "source": [
    "**More living space, more rooms, more bedrooms, and more baths often translate into higher selling prices for properties. Let's examine the relationship between a property's cost and the total number of rooms**.\n"
   ]
  },
  {
   "cell_type": "code",
   "execution_count": 700,
   "metadata": {
    "colab": {
     "base_uri": "https://localhost:8080/",
     "height": 421
    },
    "id": "R0CZceq-2RPh",
    "outputId": "b0e84161-1945-4995-83ce-fa2b20941033"
   },
   "outputs": [
    {
     "data": {
      "text/html": [
       "<div>\n",
       "<style scoped>\n",
       "    .dataframe tbody tr th:only-of-type {\n",
       "        vertical-align: middle;\n",
       "    }\n",
       "\n",
       "    .dataframe tbody tr th {\n",
       "        vertical-align: top;\n",
       "    }\n",
       "\n",
       "    .dataframe thead th {\n",
       "        text-align: right;\n",
       "    }\n",
       "</style>\n",
       "<table border=\"1\" class=\"dataframe\">\n",
       "  <thead>\n",
       "    <tr style=\"text-align: right;\">\n",
       "      <th></th>\n",
       "      <th>Suburb</th>\n",
       "      <th>Address</th>\n",
       "      <th>Rooms</th>\n",
       "      <th>Type</th>\n",
       "      <th>Price</th>\n",
       "      <th>Method</th>\n",
       "      <th>SellerG</th>\n",
       "      <th>Date</th>\n",
       "      <th>Distance</th>\n",
       "      <th>Postcode</th>\n",
       "      <th>...</th>\n",
       "      <th>Car</th>\n",
       "      <th>Landsize</th>\n",
       "      <th>BuildingArea</th>\n",
       "      <th>YearBuilt</th>\n",
       "      <th>CouncilArea</th>\n",
       "      <th>Lattitude</th>\n",
       "      <th>Longtitude</th>\n",
       "      <th>Regionname</th>\n",
       "      <th>Propertycount</th>\n",
       "      <th>Total Space</th>\n",
       "    </tr>\n",
       "  </thead>\n",
       "  <tbody>\n",
       "    <tr>\n",
       "      <th>0</th>\n",
       "      <td>Abbotsford</td>\n",
       "      <td>68 Studley St</td>\n",
       "      <td>2</td>\n",
       "      <td>h</td>\n",
       "      <td>NaN</td>\n",
       "      <td>SS</td>\n",
       "      <td>Jellis</td>\n",
       "      <td>2016-03-09</td>\n",
       "      <td>2.500</td>\n",
       "      <td>3067.000</td>\n",
       "      <td>...</td>\n",
       "      <td>1.000</td>\n",
       "      <td>126.000</td>\n",
       "      <td>NaN</td>\n",
       "      <td>NaN</td>\n",
       "      <td>Yarra City Council</td>\n",
       "      <td>-37.801</td>\n",
       "      <td>144.996</td>\n",
       "      <td>Northern Metropolitan</td>\n",
       "      <td>4019.000</td>\n",
       "      <td>6.000</td>\n",
       "    </tr>\n",
       "    <tr>\n",
       "      <th>1</th>\n",
       "      <td>Abbotsford</td>\n",
       "      <td>85 Turner St</td>\n",
       "      <td>2</td>\n",
       "      <td>h</td>\n",
       "      <td>1480000.000</td>\n",
       "      <td>S</td>\n",
       "      <td>Biggin</td>\n",
       "      <td>2016-03-12</td>\n",
       "      <td>2.500</td>\n",
       "      <td>3067.000</td>\n",
       "      <td>...</td>\n",
       "      <td>1.000</td>\n",
       "      <td>202.000</td>\n",
       "      <td>NaN</td>\n",
       "      <td>NaN</td>\n",
       "      <td>Yarra City Council</td>\n",
       "      <td>-37.800</td>\n",
       "      <td>144.998</td>\n",
       "      <td>Northern Metropolitan</td>\n",
       "      <td>4019.000</td>\n",
       "      <td>6.000</td>\n",
       "    </tr>\n",
       "    <tr>\n",
       "      <th>2</th>\n",
       "      <td>Abbotsford</td>\n",
       "      <td>25 Bloomburg St</td>\n",
       "      <td>2</td>\n",
       "      <td>h</td>\n",
       "      <td>1035000.000</td>\n",
       "      <td>S</td>\n",
       "      <td>Biggin</td>\n",
       "      <td>2016-04-02</td>\n",
       "      <td>2.500</td>\n",
       "      <td>3067.000</td>\n",
       "      <td>...</td>\n",
       "      <td>0.000</td>\n",
       "      <td>156.000</td>\n",
       "      <td>79.000</td>\n",
       "      <td>1900.000</td>\n",
       "      <td>Yarra City Council</td>\n",
       "      <td>-37.808</td>\n",
       "      <td>144.993</td>\n",
       "      <td>Northern Metropolitan</td>\n",
       "      <td>4019.000</td>\n",
       "      <td>5.000</td>\n",
       "    </tr>\n",
       "    <tr>\n",
       "      <th>3</th>\n",
       "      <td>Abbotsford</td>\n",
       "      <td>18/659 Victoria St</td>\n",
       "      <td>3</td>\n",
       "      <td>u</td>\n",
       "      <td>NaN</td>\n",
       "      <td>VB</td>\n",
       "      <td>Rounds</td>\n",
       "      <td>2016-04-02</td>\n",
       "      <td>2.500</td>\n",
       "      <td>3067.000</td>\n",
       "      <td>...</td>\n",
       "      <td>1.000</td>\n",
       "      <td>0.000</td>\n",
       "      <td>NaN</td>\n",
       "      <td>NaN</td>\n",
       "      <td>Yarra City Council</td>\n",
       "      <td>-37.811</td>\n",
       "      <td>145.012</td>\n",
       "      <td>Northern Metropolitan</td>\n",
       "      <td>4019.000</td>\n",
       "      <td>9.000</td>\n",
       "    </tr>\n",
       "    <tr>\n",
       "      <th>4</th>\n",
       "      <td>Abbotsford</td>\n",
       "      <td>5 Charles St</td>\n",
       "      <td>3</td>\n",
       "      <td>h</td>\n",
       "      <td>1465000.000</td>\n",
       "      <td>SP</td>\n",
       "      <td>Biggin</td>\n",
       "      <td>2017-04-03</td>\n",
       "      <td>2.500</td>\n",
       "      <td>3067.000</td>\n",
       "      <td>...</td>\n",
       "      <td>0.000</td>\n",
       "      <td>134.000</td>\n",
       "      <td>150.000</td>\n",
       "      <td>1900.000</td>\n",
       "      <td>Yarra City Council</td>\n",
       "      <td>-37.809</td>\n",
       "      <td>144.994</td>\n",
       "      <td>Northern Metropolitan</td>\n",
       "      <td>4019.000</td>\n",
       "      <td>8.000</td>\n",
       "    </tr>\n",
       "  </tbody>\n",
       "</table>\n",
       "<p>5 rows × 22 columns</p>\n",
       "</div>"
      ],
      "text/plain": [
       "       Suburb             Address  Rooms Type       Price Method SellerG  \\\n",
       "0  Abbotsford       68 Studley St      2    h         NaN     SS  Jellis   \n",
       "1  Abbotsford        85 Turner St      2    h 1480000.000      S  Biggin   \n",
       "2  Abbotsford     25 Bloomburg St      2    h 1035000.000      S  Biggin   \n",
       "3  Abbotsford  18/659 Victoria St      3    u         NaN     VB  Rounds   \n",
       "4  Abbotsford        5 Charles St      3    h 1465000.000     SP  Biggin   \n",
       "\n",
       "        Date  Distance  Postcode  ...   Car  Landsize  BuildingArea  \\\n",
       "0 2016-03-09     2.500  3067.000  ... 1.000   126.000           NaN   \n",
       "1 2016-03-12     2.500  3067.000  ... 1.000   202.000           NaN   \n",
       "2 2016-04-02     2.500  3067.000  ... 0.000   156.000        79.000   \n",
       "3 2016-04-02     2.500  3067.000  ... 1.000     0.000           NaN   \n",
       "4 2017-04-03     2.500  3067.000  ... 0.000   134.000       150.000   \n",
       "\n",
       "   YearBuilt         CouncilArea  Lattitude Longtitude             Regionname  \\\n",
       "0        NaN  Yarra City Council    -37.801    144.996  Northern Metropolitan   \n",
       "1        NaN  Yarra City Council    -37.800    144.998  Northern Metropolitan   \n",
       "2   1900.000  Yarra City Council    -37.808    144.993  Northern Metropolitan   \n",
       "3        NaN  Yarra City Council    -37.811    145.012  Northern Metropolitan   \n",
       "4   1900.000  Yarra City Council    -37.809    144.994  Northern Metropolitan   \n",
       "\n",
       "   Propertycount Total Space  \n",
       "0       4019.000       6.000  \n",
       "1       4019.000       6.000  \n",
       "2       4019.000       5.000  \n",
       "3       4019.000       9.000  \n",
       "4       4019.000       8.000  \n",
       "\n",
       "[5 rows x 22 columns]"
      ]
     },
     "execution_count": 700,
     "metadata": {},
     "output_type": "execute_result"
    }
   ],
   "source": [
    "# creating a column with a sum of number of rooms, bedrooms, bathrooms, and car parking spaces \n",
    "data['Total Space'] = data['Rooms'] + data['Bedroom2'] + data['Bathroom'] + data['Car']\n",
    "data.head()\n"
   ]
  },
  {
   "cell_type": "code",
   "execution_count": 701,
   "metadata": {
    "colab": {
     "base_uri": "https://localhost:8080/",
     "height": 345
    },
    "id": "j4jFgYFc3PeE",
    "outputId": "70450891-ea1d-4e77-af7f-3e4254ba6f84"
   },
   "outputs": [
    {
     "data": {
      "image/png": "[encoded data removed]",
      "text/plain": [
       "<Figure size 720x360 with 1 Axes>"
      ]
     },
     "metadata": {
      "needs_background": "light"
     },
     "output_type": "display_data"
    }
   ],
   "source": [
    "plt.figure(figsize=(10,5))\n",
    "sns.scatterplot(data=data,x='Total Space',y='Price')#plot a scatterplot\n",
    "plt.show()"
   ]
  },
  {
   "cell_type": "markdown",
   "metadata": {
    "id": "MAIoUAF53XQ9"
   },
   "source": [
    "* We can see an increasing trend of selling price with total space."
   ]
  },
  {
   "cell_type": "markdown",
   "metadata": {
    "id": "R3p2jToo3eZT"
   },
   "source": [
    "* from the above graph we can see that if the total space increases price also increases"
   ]
  },
  {
   "cell_type": "markdown",
   "metadata": {
    "id": "lNJ8TLgY4b4N"
   },
   "source": [
    "**As we observed in the correlation plot there is a negative correlation between the selling price of a property and the year it was built. Let's analyze it further**"
   ]
  },
  {
   "cell_type": "code",
   "execution_count": 702,
   "metadata": {
    "colab": {
     "base_uri": "https://localhost:8080/"
    },
    "id": "aorDdOoC3tnS",
    "outputId": "0f784d26-2295-43e5-dec7-a0c91da76a67"
   },
   "outputs": [
    {
     "data": {
      "text/plain": [
       "0        2016\n",
       "1        2016\n",
       "2        2016\n",
       "3        2016\n",
       "4        2017\n",
       "         ... \n",
       "34851    2018\n",
       "34852    2018\n",
       "34853    2018\n",
       "34854    2018\n",
       "34855    2018\n",
       "Name: Date, Length: 34856, dtype: int64"
      ]
     },
     "execution_count": 702,
     "metadata": {},
     "output_type": "execute_result"
    }
   ],
   "source": [
    "# let's first calculate the age of a property from the year it was built in to see how the prices vary with it\n",
    "year_at_sale = data['Date'].dt.year\n",
    "year_at_sale"
   ]
  },
  {
   "cell_type": "code",
   "execution_count": 703,
   "metadata": {
    "colab": {
     "base_uri": "https://localhost:8080/"
    },
    "id": "xEie6jxT5VOR",
    "outputId": "9ab8d754-4c30-44b6-face-9b5c8f258a16"
   },
   "outputs": [
    {
     "data": {
      "text/plain": [
       "2018"
      ]
     },
     "execution_count": 703,
     "metadata": {},
     "output_type": "execute_result"
    }
   ],
   "source": [
    "np.max(year_at_sale)#finding maximum year of sale"
   ]
  },
  {
   "cell_type": "code",
   "execution_count": 704,
   "metadata": {
    "colab": {
     "base_uri": "https://localhost:8080/",
     "height": 421
    },
    "id": "5--avABz5Y6V",
    "outputId": "a7863e9d-a1ec-4935-a824-b2fd2fe3119f"
   },
   "outputs": [],
   "source": [
    "data['AgeofProp'] = year_at_sale - data['YearBuilt']#finding the age of the property\n"
   ]
  },
  {
   "cell_type": "code",
   "execution_count": 705,
   "metadata": {
    "colab": {
     "base_uri": "https://localhost:8080/",
     "height": 424
    },
    "id": "mVcmhQOt5ibt",
    "outputId": "efe28342-14fc-4c67-d6db-3b0927feb4cb"
   },
   "outputs": [
    {
     "data": {
      "image/png": "[encoded data removed]",
      "text/plain": [
       "<Figure size 1080x360 with 1 Axes>"
      ]
     },
     "metadata": {
      "needs_background": "light"
     },
     "output_type": "display_data"
    }
   ],
   "source": [
    "plt.figure(figsize=(15,5))\n",
    "sns.lineplot(data=data,x='AgeofProp',y='Price',ci=None)\n",
    "plt.show()"
   ]
  },
  {
   "cell_type": "markdown",
   "metadata": {
    "id": "0JE-ctO_5ls0"
   },
   "source": [
    "* We observe an increasing trend indicating the properties which are older have higher selling prices.\n",
    "* The customers who wish to live in vintage properties might have to spend more money.\n"
   ]
  },
  {
   "cell_type": "markdown",
   "metadata": {
    "id": "2KUGCLwmXWRw"
   },
   "source": [
    "### Treating the missing values in the dataset"
   ]
  },
  {
   "cell_type": "code",
   "execution_count": 706,
   "metadata": {
    "colab": {
     "base_uri": "https://localhost:8080/",
     "height": 551
    },
    "id": "uz0Ru2SmXa1a",
    "outputId": "1f61f008-ed56-4c19-ea61-fdecdff562d1"
   },
   "outputs": [
    {
     "data": {
      "text/plain": [
       "Suburb               0\n",
       "Address              0\n",
       "Rooms                0\n",
       "Type                 0\n",
       "Price             7609\n",
       "Method               0\n",
       "SellerG              0\n",
       "Date                 0\n",
       "Distance             1\n",
       "Postcode             1\n",
       "Bedroom2          8217\n",
       "Bathroom          8226\n",
       "Car               8728\n",
       "Landsize         11810\n",
       "BuildingArea     21115\n",
       "YearBuilt        19306\n",
       "CouncilArea          3\n",
       "Lattitude         7976\n",
       "Longtitude        7976\n",
       "Regionname           3\n",
       "Propertycount        3\n",
       "Total Space       8728\n",
       "AgeofProp        19306\n",
       "dtype: int64"
      ]
     },
     "execution_count": 706,
     "metadata": {},
     "output_type": "execute_result"
    }
   ],
   "source": [
    "data.shape[0] # will give us the number of rows in the dataset\n",
    "data.isnull().sum()"
   ]
  },
  {
   "cell_type": "markdown",
   "metadata": {
    "id": "BjA5pKgaX2yr"
   },
   "source": [
    "**Missing value treatment for Distance column**"
   ]
  },
  {
   "cell_type": "code",
   "execution_count": 707,
   "metadata": {
    "colab": {
     "base_uri": "https://localhost:8080/",
     "height": 208
    },
    "id": "wH6aSvdyX3WZ",
    "outputId": "0de67f73-4ea6-4ee5-85e3-2bdc8ac9fdc5"
   },
   "outputs": [
    {
     "data": {
      "text/html": [
       "<div>\n",
       "<style scoped>\n",
       "    .dataframe tbody tr th:only-of-type {\n",
       "        vertical-align: middle;\n",
       "    }\n",
       "\n",
       "    .dataframe tbody tr th {\n",
       "        vertical-align: top;\n",
       "    }\n",
       "\n",
       "    .dataframe thead th {\n",
       "        text-align: right;\n",
       "    }\n",
       "</style>\n",
       "<table border=\"1\" class=\"dataframe\">\n",
       "  <thead>\n",
       "    <tr style=\"text-align: right;\">\n",
       "      <th></th>\n",
       "      <th>Suburb</th>\n",
       "      <th>Address</th>\n",
       "      <th>Rooms</th>\n",
       "      <th>Type</th>\n",
       "      <th>Price</th>\n",
       "      <th>Method</th>\n",
       "      <th>SellerG</th>\n",
       "      <th>Date</th>\n",
       "      <th>Distance</th>\n",
       "      <th>Postcode</th>\n",
       "      <th>...</th>\n",
       "      <th>Landsize</th>\n",
       "      <th>BuildingArea</th>\n",
       "      <th>YearBuilt</th>\n",
       "      <th>CouncilArea</th>\n",
       "      <th>Lattitude</th>\n",
       "      <th>Longtitude</th>\n",
       "      <th>Regionname</th>\n",
       "      <th>Propertycount</th>\n",
       "      <th>Total Space</th>\n",
       "      <th>AgeofProp</th>\n",
       "    </tr>\n",
       "  </thead>\n",
       "  <tbody>\n",
       "    <tr>\n",
       "      <th>29482</th>\n",
       "      <td>Fawkner Lot</td>\n",
       "      <td>1/3 Brian St</td>\n",
       "      <td>3</td>\n",
       "      <td>h</td>\n",
       "      <td>616000.000</td>\n",
       "      <td>SP</td>\n",
       "      <td>Brad</td>\n",
       "      <td>2018-06-01</td>\n",
       "      <td>NaN</td>\n",
       "      <td>NaN</td>\n",
       "      <td>...</td>\n",
       "      <td>NaN</td>\n",
       "      <td>NaN</td>\n",
       "      <td>NaN</td>\n",
       "      <td>NaN</td>\n",
       "      <td>NaN</td>\n",
       "      <td>NaN</td>\n",
       "      <td>NaN</td>\n",
       "      <td>NaN</td>\n",
       "      <td>NaN</td>\n",
       "      <td>NaN</td>\n",
       "    </tr>\n",
       "  </tbody>\n",
       "</table>\n",
       "<p>1 rows × 23 columns</p>\n",
       "</div>"
      ],
      "text/plain": [
       "            Suburb       Address  Rooms Type      Price Method SellerG  \\\n",
       "29482  Fawkner Lot  1/3 Brian St      3    h 616000.000     SP    Brad   \n",
       "\n",
       "            Date  Distance  Postcode  ...  Landsize  BuildingArea  YearBuilt  \\\n",
       "29482 2018-06-01       NaN       NaN  ...       NaN           NaN        NaN   \n",
       "\n",
       "       CouncilArea  Lattitude  Longtitude Regionname  Propertycount  \\\n",
       "29482          NaN        NaN         NaN        NaN            NaN   \n",
       "\n",
       "       Total Space AgeofProp  \n",
       "29482          NaN       NaN  \n",
       "\n",
       "[1 rows x 23 columns]"
      ]
     },
     "execution_count": 707,
     "metadata": {},
     "output_type": "execute_result"
    }
   ],
   "source": [
    "# checking all the information of other variables where Distance is null\n",
    "data.loc[data['Distance'].isnull()==True]"
   ]
  },
  {
   "cell_type": "code",
   "execution_count": 708,
   "metadata": {
    "colab": {
     "base_uri": "https://localhost:8080/",
     "height": 208
    },
    "id": "Ls2tZx6mYJH8",
    "outputId": "93fb9359-1b87-4746-92c4-ed9a88655743"
   },
   "outputs": [
    {
     "data": {
      "text/html": [
       "<div>\n",
       "<style scoped>\n",
       "    .dataframe tbody tr th:only-of-type {\n",
       "        vertical-align: middle;\n",
       "    }\n",
       "\n",
       "    .dataframe tbody tr th {\n",
       "        vertical-align: top;\n",
       "    }\n",
       "\n",
       "    .dataframe thead th {\n",
       "        text-align: right;\n",
       "    }\n",
       "</style>\n",
       "<table border=\"1\" class=\"dataframe\">\n",
       "  <thead>\n",
       "    <tr style=\"text-align: right;\">\n",
       "      <th></th>\n",
       "      <th>Suburb</th>\n",
       "      <th>Address</th>\n",
       "      <th>Rooms</th>\n",
       "      <th>Type</th>\n",
       "      <th>Price</th>\n",
       "      <th>Method</th>\n",
       "      <th>SellerG</th>\n",
       "      <th>Date</th>\n",
       "      <th>Distance</th>\n",
       "      <th>Postcode</th>\n",
       "      <th>...</th>\n",
       "      <th>Landsize</th>\n",
       "      <th>BuildingArea</th>\n",
       "      <th>YearBuilt</th>\n",
       "      <th>CouncilArea</th>\n",
       "      <th>Lattitude</th>\n",
       "      <th>Longtitude</th>\n",
       "      <th>Regionname</th>\n",
       "      <th>Propertycount</th>\n",
       "      <th>Total Space</th>\n",
       "      <th>AgeofProp</th>\n",
       "    </tr>\n",
       "  </thead>\n",
       "  <tbody>\n",
       "    <tr>\n",
       "      <th>29482</th>\n",
       "      <td>Fawkner Lot</td>\n",
       "      <td>1/3 Brian St</td>\n",
       "      <td>3</td>\n",
       "      <td>h</td>\n",
       "      <td>616000.000</td>\n",
       "      <td>SP</td>\n",
       "      <td>Brad</td>\n",
       "      <td>2018-06-01</td>\n",
       "      <td>NaN</td>\n",
       "      <td>NaN</td>\n",
       "      <td>...</td>\n",
       "      <td>NaN</td>\n",
       "      <td>NaN</td>\n",
       "      <td>NaN</td>\n",
       "      <td>NaN</td>\n",
       "      <td>NaN</td>\n",
       "      <td>NaN</td>\n",
       "      <td>NaN</td>\n",
       "      <td>NaN</td>\n",
       "      <td>NaN</td>\n",
       "      <td>NaN</td>\n",
       "    </tr>\n",
       "  </tbody>\n",
       "</table>\n",
       "<p>1 rows × 23 columns</p>\n",
       "</div>"
      ],
      "text/plain": [
       "            Suburb       Address  Rooms Type      Price Method SellerG  \\\n",
       "29482  Fawkner Lot  1/3 Brian St      3    h 616000.000     SP    Brad   \n",
       "\n",
       "            Date  Distance  Postcode  ...  Landsize  BuildingArea  YearBuilt  \\\n",
       "29482 2018-06-01       NaN       NaN  ...       NaN           NaN        NaN   \n",
       "\n",
       "       CouncilArea  Lattitude  Longtitude Regionname  Propertycount  \\\n",
       "29482          NaN        NaN         NaN        NaN            NaN   \n",
       "\n",
       "       Total Space AgeofProp  \n",
       "29482          NaN       NaN  \n",
       "\n",
       "[1 rows x 23 columns]"
      ]
     },
     "execution_count": 708,
     "metadata": {},
     "output_type": "execute_result"
    }
   ],
   "source": [
    "data.loc[data['Suburb']=='Fawkner Lot']# checking the information of a rows whose suburb value is equal to fawkner lot"
   ]
  },
  {
   "cell_type": "markdown",
   "metadata": {
    "id": "boELUZHPYSSz"
   },
   "source": [
    "* We see that there is only one data entry for the Fawkner Lot suburb. hence we can remove the coloumn."
   ]
  },
  {
   "cell_type": "code",
   "execution_count": 709,
   "metadata": {
    "id": "gANx8AE_YZxO"
   },
   "outputs": [],
   "source": [
    "# adding the index value of the row in data.drop() function\n",
    "data = data.drop(29482).reset_index(drop=True)"
   ]
  },
  {
   "cell_type": "code",
   "execution_count": 710,
   "metadata": {},
   "outputs": [
    {
     "data": {
      "text/plain": [
       "Suburb               0\n",
       "Address              0\n",
       "Rooms                0\n",
       "Type                 0\n",
       "Price             7609\n",
       "Method               0\n",
       "SellerG              0\n",
       "Date                 0\n",
       "Distance             0\n",
       "Postcode             0\n",
       "Bedroom2          8216\n",
       "Bathroom          8225\n",
       "Car               8727\n",
       "Landsize         11809\n",
       "BuildingArea     21114\n",
       "YearBuilt        19305\n",
       "CouncilArea          2\n",
       "Lattitude         7975\n",
       "Longtitude        7975\n",
       "Regionname           2\n",
       "Propertycount        2\n",
       "Total Space       8727\n",
       "AgeofProp        19305\n",
       "dtype: int64"
      ]
     },
     "execution_count": 710,
     "metadata": {},
     "output_type": "execute_result"
    }
   ],
   "source": [
    "data.isnull().sum()"
   ]
  },
  {
   "cell_type": "code",
   "execution_count": 711,
   "metadata": {
    "colab": {
     "base_uri": "https://localhost:8080/",
     "height": 800
    },
    "id": "jsbf4JowYrFT",
    "outputId": "10de1fcd-6bac-45e1-8ff2-949f8d27be9f"
   },
   "outputs": [
    {
     "data": {
      "text/html": [
       "<div>\n",
       "<style scoped>\n",
       "    .dataframe tbody tr th:only-of-type {\n",
       "        vertical-align: middle;\n",
       "    }\n",
       "\n",
       "    .dataframe tbody tr th {\n",
       "        vertical-align: top;\n",
       "    }\n",
       "\n",
       "    .dataframe thead th {\n",
       "        text-align: right;\n",
       "    }\n",
       "</style>\n",
       "<table border=\"1\" class=\"dataframe\">\n",
       "  <thead>\n",
       "    <tr style=\"text-align: right;\">\n",
       "      <th></th>\n",
       "      <th>Suburb</th>\n",
       "      <th>Address</th>\n",
       "      <th>Rooms</th>\n",
       "      <th>Type</th>\n",
       "      <th>Price</th>\n",
       "      <th>Method</th>\n",
       "      <th>SellerG</th>\n",
       "      <th>Date</th>\n",
       "      <th>Distance</th>\n",
       "      <th>Postcode</th>\n",
       "      <th>...</th>\n",
       "      <th>Landsize</th>\n",
       "      <th>BuildingArea</th>\n",
       "      <th>YearBuilt</th>\n",
       "      <th>CouncilArea</th>\n",
       "      <th>Lattitude</th>\n",
       "      <th>Longtitude</th>\n",
       "      <th>Regionname</th>\n",
       "      <th>Propertycount</th>\n",
       "      <th>Total Space</th>\n",
       "      <th>AgeofProp</th>\n",
       "    </tr>\n",
       "  </thead>\n",
       "  <tbody>\n",
       "    <tr>\n",
       "      <th>15</th>\n",
       "      <td>Abbotsford</td>\n",
       "      <td>217 Langridge St</td>\n",
       "      <td>3</td>\n",
       "      <td>h</td>\n",
       "      <td>1000000.000</td>\n",
       "      <td>S</td>\n",
       "      <td>Jellis</td>\n",
       "      <td>2016-08-10</td>\n",
       "      <td>2.500</td>\n",
       "      <td>3067.000</td>\n",
       "      <td>...</td>\n",
       "      <td>NaN</td>\n",
       "      <td>NaN</td>\n",
       "      <td>NaN</td>\n",
       "      <td>Yarra City Council</td>\n",
       "      <td>NaN</td>\n",
       "      <td>NaN</td>\n",
       "      <td>Northern Metropolitan</td>\n",
       "      <td>4019.000</td>\n",
       "      <td>NaN</td>\n",
       "      <td>NaN</td>\n",
       "    </tr>\n",
       "    <tr>\n",
       "      <th>16</th>\n",
       "      <td>Abbotsford</td>\n",
       "      <td>18a Mollison St</td>\n",
       "      <td>2</td>\n",
       "      <td>t</td>\n",
       "      <td>745000.000</td>\n",
       "      <td>S</td>\n",
       "      <td>Jellis</td>\n",
       "      <td>2016-08-10</td>\n",
       "      <td>2.500</td>\n",
       "      <td>3067.000</td>\n",
       "      <td>...</td>\n",
       "      <td>NaN</td>\n",
       "      <td>NaN</td>\n",
       "      <td>NaN</td>\n",
       "      <td>Yarra City Council</td>\n",
       "      <td>NaN</td>\n",
       "      <td>NaN</td>\n",
       "      <td>Northern Metropolitan</td>\n",
       "      <td>4019.000</td>\n",
       "      <td>NaN</td>\n",
       "      <td>NaN</td>\n",
       "    </tr>\n",
       "    <tr>\n",
       "      <th>19</th>\n",
       "      <td>Abbotsford</td>\n",
       "      <td>403/609 Victoria St</td>\n",
       "      <td>2</td>\n",
       "      <td>u</td>\n",
       "      <td>542000.000</td>\n",
       "      <td>S</td>\n",
       "      <td>Dingle</td>\n",
       "      <td>2016-08-10</td>\n",
       "      <td>2.500</td>\n",
       "      <td>3067.000</td>\n",
       "      <td>...</td>\n",
       "      <td>NaN</td>\n",
       "      <td>NaN</td>\n",
       "      <td>NaN</td>\n",
       "      <td>Yarra City Council</td>\n",
       "      <td>NaN</td>\n",
       "      <td>NaN</td>\n",
       "      <td>Northern Metropolitan</td>\n",
       "      <td>4019.000</td>\n",
       "      <td>NaN</td>\n",
       "      <td>NaN</td>\n",
       "    </tr>\n",
       "    <tr>\n",
       "      <th>21</th>\n",
       "      <td>Abbotsford</td>\n",
       "      <td>25/84 Trenerry Cr</td>\n",
       "      <td>2</td>\n",
       "      <td>u</td>\n",
       "      <td>760000.000</td>\n",
       "      <td>SP</td>\n",
       "      <td>Biggin</td>\n",
       "      <td>2016-10-12</td>\n",
       "      <td>2.500</td>\n",
       "      <td>3067.000</td>\n",
       "      <td>...</td>\n",
       "      <td>NaN</td>\n",
       "      <td>NaN</td>\n",
       "      <td>NaN</td>\n",
       "      <td>Yarra City Council</td>\n",
       "      <td>NaN</td>\n",
       "      <td>NaN</td>\n",
       "      <td>Northern Metropolitan</td>\n",
       "      <td>4019.000</td>\n",
       "      <td>NaN</td>\n",
       "      <td>NaN</td>\n",
       "    </tr>\n",
       "    <tr>\n",
       "      <th>22</th>\n",
       "      <td>Abbotsford</td>\n",
       "      <td>106/119 Turner St</td>\n",
       "      <td>1</td>\n",
       "      <td>u</td>\n",
       "      <td>481000.000</td>\n",
       "      <td>SP</td>\n",
       "      <td>Purplebricks</td>\n",
       "      <td>2016-10-12</td>\n",
       "      <td>2.500</td>\n",
       "      <td>3067.000</td>\n",
       "      <td>...</td>\n",
       "      <td>NaN</td>\n",
       "      <td>NaN</td>\n",
       "      <td>NaN</td>\n",
       "      <td>Yarra City Council</td>\n",
       "      <td>NaN</td>\n",
       "      <td>NaN</td>\n",
       "      <td>Northern Metropolitan</td>\n",
       "      <td>4019.000</td>\n",
       "      <td>NaN</td>\n",
       "      <td>NaN</td>\n",
       "    </tr>\n",
       "    <tr>\n",
       "      <th>...</th>\n",
       "      <td>...</td>\n",
       "      <td>...</td>\n",
       "      <td>...</td>\n",
       "      <td>...</td>\n",
       "      <td>...</td>\n",
       "      <td>...</td>\n",
       "      <td>...</td>\n",
       "      <td>...</td>\n",
       "      <td>...</td>\n",
       "      <td>...</td>\n",
       "      <td>...</td>\n",
       "      <td>...</td>\n",
       "      <td>...</td>\n",
       "      <td>...</td>\n",
       "      <td>...</td>\n",
       "      <td>...</td>\n",
       "      <td>...</td>\n",
       "      <td>...</td>\n",
       "      <td>...</td>\n",
       "      <td>...</td>\n",
       "      <td>...</td>\n",
       "    </tr>\n",
       "    <tr>\n",
       "      <th>34836</th>\n",
       "      <td>Williamstown</td>\n",
       "      <td>11/81 Melbourne Rd</td>\n",
       "      <td>2</td>\n",
       "      <td>u</td>\n",
       "      <td>450000.000</td>\n",
       "      <td>SP</td>\n",
       "      <td>Raine</td>\n",
       "      <td>2018-02-24</td>\n",
       "      <td>6.800</td>\n",
       "      <td>3016.000</td>\n",
       "      <td>...</td>\n",
       "      <td>NaN</td>\n",
       "      <td>NaN</td>\n",
       "      <td>NaN</td>\n",
       "      <td>Hobsons Bay City Council</td>\n",
       "      <td>NaN</td>\n",
       "      <td>NaN</td>\n",
       "      <td>Western Metropolitan</td>\n",
       "      <td>6380.000</td>\n",
       "      <td>NaN</td>\n",
       "      <td>NaN</td>\n",
       "    </tr>\n",
       "    <tr>\n",
       "      <th>34837</th>\n",
       "      <td>Williamstown</td>\n",
       "      <td>24/18 Station Rd</td>\n",
       "      <td>2</td>\n",
       "      <td>u</td>\n",
       "      <td>475000.000</td>\n",
       "      <td>SP</td>\n",
       "      <td>Greg</td>\n",
       "      <td>2018-02-24</td>\n",
       "      <td>6.800</td>\n",
       "      <td>3016.000</td>\n",
       "      <td>...</td>\n",
       "      <td>NaN</td>\n",
       "      <td>NaN</td>\n",
       "      <td>NaN</td>\n",
       "      <td>Hobsons Bay City Council</td>\n",
       "      <td>NaN</td>\n",
       "      <td>NaN</td>\n",
       "      <td>Western Metropolitan</td>\n",
       "      <td>6380.000</td>\n",
       "      <td>NaN</td>\n",
       "      <td>NaN</td>\n",
       "    </tr>\n",
       "    <tr>\n",
       "      <th>34838</th>\n",
       "      <td>Williamstown</td>\n",
       "      <td>3/2 Thompson St</td>\n",
       "      <td>2</td>\n",
       "      <td>u</td>\n",
       "      <td>520000.000</td>\n",
       "      <td>VB</td>\n",
       "      <td>Raine</td>\n",
       "      <td>2018-02-24</td>\n",
       "      <td>6.800</td>\n",
       "      <td>3016.000</td>\n",
       "      <td>...</td>\n",
       "      <td>NaN</td>\n",
       "      <td>NaN</td>\n",
       "      <td>NaN</td>\n",
       "      <td>Hobsons Bay City Council</td>\n",
       "      <td>NaN</td>\n",
       "      <td>NaN</td>\n",
       "      <td>Western Metropolitan</td>\n",
       "      <td>6380.000</td>\n",
       "      <td>NaN</td>\n",
       "      <td>NaN</td>\n",
       "    </tr>\n",
       "    <tr>\n",
       "      <th>34842</th>\n",
       "      <td>Windsor</td>\n",
       "      <td>4/16 Lewisham Rd</td>\n",
       "      <td>1</td>\n",
       "      <td>u</td>\n",
       "      <td>440000.000</td>\n",
       "      <td>SP</td>\n",
       "      <td>Biggin</td>\n",
       "      <td>2018-02-24</td>\n",
       "      <td>4.600</td>\n",
       "      <td>3181.000</td>\n",
       "      <td>...</td>\n",
       "      <td>NaN</td>\n",
       "      <td>NaN</td>\n",
       "      <td>NaN</td>\n",
       "      <td>Port Phillip City Council</td>\n",
       "      <td>NaN</td>\n",
       "      <td>NaN</td>\n",
       "      <td>Southern Metropolitan</td>\n",
       "      <td>4380.000</td>\n",
       "      <td>NaN</td>\n",
       "      <td>NaN</td>\n",
       "    </tr>\n",
       "    <tr>\n",
       "      <th>34853</th>\n",
       "      <td>Yarraville</td>\n",
       "      <td>12/37 Stephen St</td>\n",
       "      <td>3</td>\n",
       "      <td>h</td>\n",
       "      <td>1140000.000</td>\n",
       "      <td>SP</td>\n",
       "      <td>hockingstuart</td>\n",
       "      <td>2018-02-24</td>\n",
       "      <td>6.300</td>\n",
       "      <td>3013.000</td>\n",
       "      <td>...</td>\n",
       "      <td>NaN</td>\n",
       "      <td>NaN</td>\n",
       "      <td>NaN</td>\n",
       "      <td>Maribyrnong City Council</td>\n",
       "      <td>NaN</td>\n",
       "      <td>NaN</td>\n",
       "      <td>Western Metropolitan</td>\n",
       "      <td>6543.000</td>\n",
       "      <td>NaN</td>\n",
       "      <td>NaN</td>\n",
       "    </tr>\n",
       "  </tbody>\n",
       "</table>\n",
       "<p>8216 rows × 23 columns</p>\n",
       "</div>"
      ],
      "text/plain": [
       "             Suburb              Address  Rooms Type       Price Method  \\\n",
       "15       Abbotsford     217 Langridge St      3    h 1000000.000      S   \n",
       "16       Abbotsford      18a Mollison St      2    t  745000.000      S   \n",
       "19       Abbotsford  403/609 Victoria St      2    u  542000.000      S   \n",
       "21       Abbotsford    25/84 Trenerry Cr      2    u  760000.000     SP   \n",
       "22       Abbotsford    106/119 Turner St      1    u  481000.000     SP   \n",
       "...             ...                  ...    ...  ...         ...    ...   \n",
       "34836  Williamstown   11/81 Melbourne Rd      2    u  450000.000     SP   \n",
       "34837  Williamstown     24/18 Station Rd      2    u  475000.000     SP   \n",
       "34838  Williamstown      3/2 Thompson St      2    u  520000.000     VB   \n",
       "34842       Windsor     4/16 Lewisham Rd      1    u  440000.000     SP   \n",
       "34853    Yarraville     12/37 Stephen St      3    h 1140000.000     SP   \n",
       "\n",
       "             SellerG       Date  Distance  Postcode  ...  Landsize  \\\n",
       "15            Jellis 2016-08-10     2.500  3067.000  ...       NaN   \n",
       "16            Jellis 2016-08-10     2.500  3067.000  ...       NaN   \n",
       "19            Dingle 2016-08-10     2.500  3067.000  ...       NaN   \n",
       "21            Biggin 2016-10-12     2.500  3067.000  ...       NaN   \n",
       "22      Purplebricks 2016-10-12     2.500  3067.000  ...       NaN   \n",
       "...              ...        ...       ...       ...  ...       ...   \n",
       "34836          Raine 2018-02-24     6.800  3016.000  ...       NaN   \n",
       "34837           Greg 2018-02-24     6.800  3016.000  ...       NaN   \n",
       "34838          Raine 2018-02-24     6.800  3016.000  ...       NaN   \n",
       "34842         Biggin 2018-02-24     4.600  3181.000  ...       NaN   \n",
       "34853  hockingstuart 2018-02-24     6.300  3013.000  ...       NaN   \n",
       "\n",
       "       BuildingArea  YearBuilt                CouncilArea  Lattitude  \\\n",
       "15              NaN        NaN         Yarra City Council        NaN   \n",
       "16              NaN        NaN         Yarra City Council        NaN   \n",
       "19              NaN        NaN         Yarra City Council        NaN   \n",
       "21              NaN        NaN         Yarra City Council        NaN   \n",
       "22              NaN        NaN         Yarra City Council        NaN   \n",
       "...             ...        ...                        ...        ...   \n",
       "34836           NaN        NaN   Hobsons Bay City Council        NaN   \n",
       "34837           NaN        NaN   Hobsons Bay City Council        NaN   \n",
       "34838           NaN        NaN   Hobsons Bay City Council        NaN   \n",
       "34842           NaN        NaN  Port Phillip City Council        NaN   \n",
       "34853           NaN        NaN   Maribyrnong City Council        NaN   \n",
       "\n",
       "       Longtitude             Regionname  Propertycount  Total Space AgeofProp  \n",
       "15            NaN  Northern Metropolitan       4019.000          NaN       NaN  \n",
       "16            NaN  Northern Metropolitan       4019.000          NaN       NaN  \n",
       "19            NaN  Northern Metropolitan       4019.000          NaN       NaN  \n",
       "21            NaN  Northern Metropolitan       4019.000          NaN       NaN  \n",
       "22            NaN  Northern Metropolitan       4019.000          NaN       NaN  \n",
       "...           ...                    ...            ...          ...       ...  \n",
       "34836         NaN   Western Metropolitan       6380.000          NaN       NaN  \n",
       "34837         NaN   Western Metropolitan       6380.000          NaN       NaN  \n",
       "34838         NaN   Western Metropolitan       6380.000          NaN       NaN  \n",
       "34842         NaN  Southern Metropolitan       4380.000          NaN       NaN  \n",
       "34853         NaN   Western Metropolitan       6543.000          NaN       NaN  \n",
       "\n",
       "[8216 rows x 23 columns]"
      ]
     },
     "execution_count": 711,
     "metadata": {},
     "output_type": "execute_result"
    }
   ],
   "source": [
    "# extracting all the information of other variable where bedroom is null\n",
    "data.loc[data['Bedroom2'].isnull()==True]"
   ]
  },
  {
   "cell_type": "markdown",
   "metadata": {},
   "source": [
    "We can see from the above set of data if bedroom is null the bathroom car landsize is also null so we have to check group of data which are missing in all coloumns commonly"
   ]
  },
  {
   "cell_type": "code",
   "execution_count": 712,
   "metadata": {
    "colab": {
     "base_uri": "https://localhost:8080/"
    },
    "id": "9TB11ow8Y6pX",
    "outputId": "a29ffda3-adba-4d66-d5c8-58a5ab9f087a"
   },
   "outputs": [
    {
     "data": {
      "text/plain": [
       "NaN    8216\n",
       "Name: Bathroom, dtype: int64"
      ]
     },
     "execution_count": 712,
     "metadata": {},
     "output_type": "execute_result"
    }
   ],
   "source": [
    "data.loc[data['Bedroom2'].isnull()==True,'Bathroom'].value_counts(dropna=False)#checking if bedroom is null how many records have bathroom also null"
   ]
  },
  {
   "cell_type": "code",
   "execution_count": 713,
   "metadata": {
    "colab": {
     "base_uri": "https://localhost:8080/"
    },
    "id": "hcj0-MlIZNbi",
    "outputId": "3c068800-bdd5-4025-d962-e63fd4d1e0d0"
   },
   "outputs": [
    {
     "data": {
      "text/plain": [
       "NaN    8216\n",
       "Name: Car, dtype: int64"
      ]
     },
     "execution_count": 713,
     "metadata": {},
     "output_type": "execute_result"
    }
   ],
   "source": [
    "data.loc[data['Bedroom2'].isnull()==True,'Car'].value_counts(dropna=False)#checking if bedroom is null how many records have car also null"
   ]
  },
  {
   "cell_type": "code",
   "execution_count": 714,
   "metadata": {
    "colab": {
     "base_uri": "https://localhost:8080/"
    },
    "id": "uUnPfz-fZUVV",
    "outputId": "c0ab3d8c-bec3-48e8-cef0-d70587268337"
   },
   "outputs": [
    {
     "data": {
      "text/plain": [
       "NaN        8209\n",
       "338.000       1\n",
       "446.000       1\n",
       "549.000       1\n",
       "239.000       1\n",
       "128.000       1\n",
       "250.000       1\n",
       "594.000       1\n",
       "Name: Landsize, dtype: int64"
      ]
     },
     "execution_count": 714,
     "metadata": {},
     "output_type": "execute_result"
    }
   ],
   "source": [
    "data.loc[data['Bedroom2'].isnull()==True,'Landsize'].value_counts(dropna=False)#checking if bedroom is null how many records have landsize also null"
   ]
  },
  {
   "cell_type": "code",
   "execution_count": 715,
   "metadata": {
    "colab": {
     "base_uri": "https://localhost:8080/"
    },
    "id": "SiaTZAbCZa1T",
    "outputId": "610dbcc9-866b-4d22-fb59-dbbc5bb5e9f6"
   },
   "outputs": [
    {
     "data": {
      "text/plain": [
       "NaN    8216\n",
       "Name: BuildingArea, dtype: int64"
      ]
     },
     "execution_count": 715,
     "metadata": {},
     "output_type": "execute_result"
    }
   ],
   "source": [
    "data.loc[data['Bedroom2'].isnull()==True,'BuildingArea'].value_counts(dropna=False)#checking if bedroom is null how many records have buildingarea also null"
   ]
  },
  {
   "cell_type": "code",
   "execution_count": 716,
   "metadata": {
    "colab": {
     "base_uri": "https://localhost:8080/"
    },
    "id": "9VWgo_FDZehU",
    "outputId": "528c0710-ce62-4b56-c43e-4bc0e5dfd66a"
   },
   "outputs": [
    {
     "data": {
      "text/plain": [
       "NaN    8216\n",
       "Name: YearBuilt, dtype: int64"
      ]
     },
     "execution_count": 716,
     "metadata": {},
     "output_type": "execute_result"
    }
   ],
   "source": [
    "data.loc[data['Bedroom2'].isnull()==True,'YearBuilt'].value_counts(dropna=False)#checking if bedroom is null how many records have yearbuilt also null"
   ]
  },
  {
   "cell_type": "markdown",
   "metadata": {
    "id": "wgo4b0pvZiVz"
   },
   "source": [
    "* There seems to be a strong pattern in missing values, as wherever the Bedroom column has missing data the other columns like Bathroom, Car, Landsize, BuildingArea, and YearBuilt also have missing values.\n",
    "* Let's see if the missing data has some pattern in suburbs, and regions of properties."
   ]
  },
  {
   "cell_type": "markdown",
   "metadata": {
    "id": "cih6wpAFaWrN"
   },
   "source": [
    "**Missing value treatment for Bedroom, Bathroom, and Car columns**"
   ]
  },
  {
   "cell_type": "markdown",
   "metadata": {
    "id": "HiNMR0gmabCj"
   },
   "source": [
    "* One of the approaches to treat the missing values of these columns would be to group the data on the basis of Region and Type of the property to get a better idea of the average number of bedrooms, bathrooms, and car parking spaces.\n",
    "* It is more likely that a property of certain type in a given region would have similar number of bedrooms, bathrooms, and car parking spaces."
   ]
  },
  {
   "cell_type": "code",
   "execution_count": 717,
   "metadata": {
    "colab": {
     "base_uri": "https://localhost:8080/",
     "height": 802
    },
    "id": "5x5MdZlbafJb",
    "outputId": "100b7397-8fa1-4fac-ea8d-c1a9988fc2e6"
   },
   "outputs": [
    {
     "data": {
      "text/html": [
       "<div>\n",
       "<style scoped>\n",
       "    .dataframe tbody tr th:only-of-type {\n",
       "        vertical-align: middle;\n",
       "    }\n",
       "\n",
       "    .dataframe tbody tr th {\n",
       "        vertical-align: top;\n",
       "    }\n",
       "\n",
       "    .dataframe thead th {\n",
       "        text-align: right;\n",
       "    }\n",
       "</style>\n",
       "<table border=\"1\" class=\"dataframe\">\n",
       "  <thead>\n",
       "    <tr style=\"text-align: right;\">\n",
       "      <th></th>\n",
       "      <th></th>\n",
       "      <th>Bedroom2</th>\n",
       "      <th>Bathroom</th>\n",
       "      <th>Car</th>\n",
       "    </tr>\n",
       "    <tr>\n",
       "      <th>Regionname</th>\n",
       "      <th>Type</th>\n",
       "      <th></th>\n",
       "      <th></th>\n",
       "      <th></th>\n",
       "    </tr>\n",
       "  </thead>\n",
       "  <tbody>\n",
       "    <tr>\n",
       "      <th rowspan=\"3\" valign=\"top\">Eastern Metropolitan</th>\n",
       "      <th>h</th>\n",
       "      <td>3.578</td>\n",
       "      <td>1.833</td>\n",
       "      <td>1.943</td>\n",
       "    </tr>\n",
       "    <tr>\n",
       "      <th>t</th>\n",
       "      <td>3.031</td>\n",
       "      <td>1.877</td>\n",
       "      <td>1.636</td>\n",
       "    </tr>\n",
       "    <tr>\n",
       "      <th>u</th>\n",
       "      <td>2.382</td>\n",
       "      <td>1.275</td>\n",
       "      <td>1.300</td>\n",
       "    </tr>\n",
       "    <tr>\n",
       "      <th rowspan=\"3\" valign=\"top\">Eastern Victoria</th>\n",
       "      <th>h</th>\n",
       "      <td>3.582</td>\n",
       "      <td>1.879</td>\n",
       "      <td>2.124</td>\n",
       "    </tr>\n",
       "    <tr>\n",
       "      <th>t</th>\n",
       "      <td>3.000</td>\n",
       "      <td>2.000</td>\n",
       "      <td>1.667</td>\n",
       "    </tr>\n",
       "    <tr>\n",
       "      <th>u</th>\n",
       "      <td>2.750</td>\n",
       "      <td>1.000</td>\n",
       "      <td>1.500</td>\n",
       "    </tr>\n",
       "    <tr>\n",
       "      <th rowspan=\"3\" valign=\"top\">Northern Metropolitan</th>\n",
       "      <th>h</th>\n",
       "      <td>3.121</td>\n",
       "      <td>1.483</td>\n",
       "      <td>1.686</td>\n",
       "    </tr>\n",
       "    <tr>\n",
       "      <th>t</th>\n",
       "      <td>2.572</td>\n",
       "      <td>1.639</td>\n",
       "      <td>1.362</td>\n",
       "    </tr>\n",
       "    <tr>\n",
       "      <th>u</th>\n",
       "      <td>1.864</td>\n",
       "      <td>1.168</td>\n",
       "      <td>1.087</td>\n",
       "    </tr>\n",
       "    <tr>\n",
       "      <th rowspan=\"3\" valign=\"top\">Northern Victoria</th>\n",
       "      <th>h</th>\n",
       "      <td>3.558</td>\n",
       "      <td>1.901</td>\n",
       "      <td>2.229</td>\n",
       "    </tr>\n",
       "    <tr>\n",
       "      <th>t</th>\n",
       "      <td>NaN</td>\n",
       "      <td>NaN</td>\n",
       "      <td>NaN</td>\n",
       "    </tr>\n",
       "    <tr>\n",
       "      <th>u</th>\n",
       "      <td>3.000</td>\n",
       "      <td>2.000</td>\n",
       "      <td>2.000</td>\n",
       "    </tr>\n",
       "    <tr>\n",
       "      <th rowspan=\"3\" valign=\"top\">South-Eastern Metropolitan</th>\n",
       "      <th>h</th>\n",
       "      <td>3.500</td>\n",
       "      <td>1.721</td>\n",
       "      <td>2.121</td>\n",
       "    </tr>\n",
       "    <tr>\n",
       "      <th>t</th>\n",
       "      <td>2.961</td>\n",
       "      <td>1.855</td>\n",
       "      <td>1.711</td>\n",
       "    </tr>\n",
       "    <tr>\n",
       "      <th>u</th>\n",
       "      <td>2.341</td>\n",
       "      <td>1.227</td>\n",
       "      <td>1.352</td>\n",
       "    </tr>\n",
       "    <tr>\n",
       "      <th rowspan=\"3\" valign=\"top\">Southern Metropolitan</th>\n",
       "      <th>h</th>\n",
       "      <td>3.427</td>\n",
       "      <td>1.882</td>\n",
       "      <td>1.888</td>\n",
       "    </tr>\n",
       "    <tr>\n",
       "      <th>t</th>\n",
       "      <td>3.031</td>\n",
       "      <td>2.017</td>\n",
       "      <td>1.787</td>\n",
       "    </tr>\n",
       "    <tr>\n",
       "      <th>u</th>\n",
       "      <td>1.939</td>\n",
       "      <td>1.194</td>\n",
       "      <td>1.141</td>\n",
       "    </tr>\n",
       "    <tr>\n",
       "      <th rowspan=\"3\" valign=\"top\">Western Metropolitan</th>\n",
       "      <th>h</th>\n",
       "      <td>3.267</td>\n",
       "      <td>1.597</td>\n",
       "      <td>1.913</td>\n",
       "    </tr>\n",
       "    <tr>\n",
       "      <th>t</th>\n",
       "      <td>2.881</td>\n",
       "      <td>1.826</td>\n",
       "      <td>1.531</td>\n",
       "    </tr>\n",
       "    <tr>\n",
       "      <th>u</th>\n",
       "      <td>2.073</td>\n",
       "      <td>1.198</td>\n",
       "      <td>1.131</td>\n",
       "    </tr>\n",
       "    <tr>\n",
       "      <th rowspan=\"2\" valign=\"top\">Western Victoria</th>\n",
       "      <th>h</th>\n",
       "      <td>3.356</td>\n",
       "      <td>1.462</td>\n",
       "      <td>2.090</td>\n",
       "    </tr>\n",
       "    <tr>\n",
       "      <th>u</th>\n",
       "      <td>NaN</td>\n",
       "      <td>NaN</td>\n",
       "      <td>NaN</td>\n",
       "    </tr>\n",
       "  </tbody>\n",
       "</table>\n",
       "</div>"
      ],
      "text/plain": [
       "                                 Bedroom2  Bathroom   Car\n",
       "Regionname                 Type                          \n",
       "Eastern Metropolitan       h        3.578     1.833 1.943\n",
       "                           t        3.031     1.877 1.636\n",
       "                           u        2.382     1.275 1.300\n",
       "Eastern Victoria           h        3.582     1.879 2.124\n",
       "                           t        3.000     2.000 1.667\n",
       "                           u        2.750     1.000 1.500\n",
       "Northern Metropolitan      h        3.121     1.483 1.686\n",
       "                           t        2.572     1.639 1.362\n",
       "                           u        1.864     1.168 1.087\n",
       "Northern Victoria          h        3.558     1.901 2.229\n",
       "                           t          NaN       NaN   NaN\n",
       "                           u        3.000     2.000 2.000\n",
       "South-Eastern Metropolitan h        3.500     1.721 2.121\n",
       "                           t        2.961     1.855 1.711\n",
       "                           u        2.341     1.227 1.352\n",
       "Southern Metropolitan      h        3.427     1.882 1.888\n",
       "                           t        3.031     2.017 1.787\n",
       "                           u        1.939     1.194 1.141\n",
       "Western Metropolitan       h        3.267     1.597 1.913\n",
       "                           t        2.881     1.826 1.531\n",
       "                           u        2.073     1.198 1.131\n",
       "Western Victoria           h        3.356     1.462 2.090\n",
       "                           u          NaN       NaN   NaN"
      ]
     },
     "execution_count": 717,
     "metadata": {},
     "output_type": "execute_result"
    }
   ],
   "source": [
    "# checking the average number of bedrooms, bathrooms, and car parking spaces in a region\n",
    "data.groupby(['Regionname','Type'])[['Bedroom2','Bathroom','Car']].mean()"
   ]
  },
  {
   "cell_type": "markdown",
   "metadata": {
    "id": "KTEx9lRtaqFn"
   },
   "source": [
    "We will use fillna() function and transform method of pandas to impute the missing values. \n",
    "Here the room space and car spaces majorly depends on region and type of house hence we group the room space with respect to regionname and type of house and we impute mean values"
   ]
  },
  {
   "cell_type": "code",
   "execution_count": 718,
   "metadata": {
    "id": "dX9YMLTfarj8"
   },
   "outputs": [],
   "source": [
    "# replacing missing values in Bedroom column with its mean value\n",
    "data['Bedroom2'] = data['Bedroom2'].fillna(value = data.groupby(['Regionname','Type'])['Bedroom2'].transform('mean'))"
   ]
  },
  {
   "cell_type": "code",
   "execution_count": 719,
   "metadata": {
    "id": "wkcbrcfFa1DK"
   },
   "outputs": [],
   "source": [
    "# replacing missing values in Bathroom column with its mean value\n",
    "data['Bathroom'] = data['Bathroom'].fillna(value = data.groupby(['Regionname','Type'])['Bathroom'].transform('mean'))"
   ]
  },
  {
   "cell_type": "code",
   "execution_count": 720,
   "metadata": {
    "id": "zKLK4VKua4Dk"
   },
   "outputs": [],
   "source": [
    "# replacing missing values in Car column with its mean value\n",
    "data['Car'] = data['Car'].fillna(value = data.groupby(['Regionname','Type'])['Car'].transform('mean'))"
   ]
  },
  {
   "cell_type": "code",
   "execution_count": 721,
   "metadata": {
    "colab": {
     "base_uri": "https://localhost:8080/",
     "height": 488
    },
    "id": "pj75LrOHa7FV",
    "outputId": "52a280ec-d83b-4ce6-f730-f55fa89e980c"
   },
   "outputs": [
    {
     "data": {
      "text/plain": [
       "Suburb               0\n",
       "Address              0\n",
       "Rooms                0\n",
       "Type                 0\n",
       "Price             7609\n",
       "Method               0\n",
       "SellerG              0\n",
       "Date                 0\n",
       "Distance             0\n",
       "Postcode             0\n",
       "Bedroom2             5\n",
       "Bathroom             5\n",
       "Car                  5\n",
       "Landsize         11809\n",
       "BuildingArea     21114\n",
       "YearBuilt        19305\n",
       "CouncilArea          2\n",
       "Lattitude         7975\n",
       "Longtitude        7975\n",
       "Regionname           2\n",
       "Propertycount        2\n",
       "Total Space       8727\n",
       "AgeofProp        19305\n",
       "dtype: int64"
      ]
     },
     "execution_count": 721,
     "metadata": {},
     "output_type": "execute_result"
    }
   ],
   "source": [
    "# checking if all the missing values were imputed in Bedroom, Bathroom, and Car columns\n",
    "data.isnull().sum()"
   ]
  },
  {
   "cell_type": "code",
   "execution_count": 722,
   "metadata": {
    "id": "FP16HYM527Z2"
   },
   "outputs": [],
   "source": [
    "data2=data.loc[data['Car'].isnull()==True]\n",
    "\n",
    "for index, row in data2.iterrows():\n",
    "  data.drop(index, inplace=True)\n",
    "data.reset_index(drop=True, inplace=True)"
   ]
  },
  {
   "cell_type": "markdown",
   "metadata": {
    "id": "oUJFOZrRuc1l"
   },
   "source": [
    "The above values contain the regionname or the type as Nan hence drop these rows\n"
   ]
  },
  {
   "cell_type": "code",
   "execution_count": 723,
   "metadata": {
    "colab": {
     "base_uri": "https://localhost:8080/",
     "height": 300
    },
    "id": "EGVX_UVf4AHJ",
    "outputId": "7f06d420-5646-4cb5-c309-28f361558331"
   },
   "outputs": [
    {
     "data": {
      "text/plain": [
       "Suburb               0\n",
       "Address              0\n",
       "Rooms                0\n",
       "Type                 0\n",
       "Price             7609\n",
       "Method               0\n",
       "SellerG              0\n",
       "Date                 0\n",
       "Distance             0\n",
       "Postcode             0\n",
       "Bedroom2             0\n",
       "Bathroom             0\n",
       "Car                  0\n",
       "Landsize         11804\n",
       "BuildingArea     21109\n",
       "YearBuilt        19300\n",
       "CouncilArea          0\n",
       "Lattitude         7970\n",
       "Longtitude        7970\n",
       "Regionname           0\n",
       "Propertycount        0\n",
       "Total Space       8722\n",
       "AgeofProp        19300\n",
       "dtype: int64"
      ]
     },
     "execution_count": 723,
     "metadata": {},
     "output_type": "execute_result"
    }
   ],
   "source": [
    "data.isnull().sum()"
   ]
  },
  {
   "cell_type": "markdown",
   "metadata": {
    "id": "U-O0k6TG7BcE"
   },
   "source": [
    "**Missing values of Total Space column**"
   ]
  },
  {
   "cell_type": "code",
   "execution_count": 724,
   "metadata": {
    "id": "kxRYlqzu66Er"
   },
   "outputs": [],
   "source": [
    "# as we created this coloumn for analysis remove Total Space column\n",
    "data.drop('Total Space',axis=1,inplace=True)\n",
    "data.drop('AgeofProp',axis=1,inplace=True)"
   ]
  },
  {
   "cell_type": "code",
   "execution_count": 725,
   "metadata": {
    "colab": {
     "base_uri": "https://localhost:8080/",
     "height": 739
    },
    "id": "q65Ts49r-gms",
    "outputId": "83f30306-3a9a-4cd7-cc87-3544975809ea"
   },
   "outputs": [
    {
     "data": {
      "text/html": [
       "<div>\n",
       "<style scoped>\n",
       "    .dataframe tbody tr th:only-of-type {\n",
       "        vertical-align: middle;\n",
       "    }\n",
       "\n",
       "    .dataframe tbody tr th {\n",
       "        vertical-align: top;\n",
       "    }\n",
       "\n",
       "    .dataframe thead th {\n",
       "        text-align: right;\n",
       "    }\n",
       "</style>\n",
       "<table border=\"1\" class=\"dataframe\">\n",
       "  <thead>\n",
       "    <tr style=\"text-align: right;\">\n",
       "      <th></th>\n",
       "      <th></th>\n",
       "      <th>Landsize</th>\n",
       "    </tr>\n",
       "    <tr>\n",
       "      <th>Regionname</th>\n",
       "      <th>Type</th>\n",
       "      <th></th>\n",
       "    </tr>\n",
       "  </thead>\n",
       "  <tbody>\n",
       "    <tr>\n",
       "      <th rowspan=\"3\" valign=\"top\">Eastern Metropolitan</th>\n",
       "      <th>h</th>\n",
       "      <td>746.675</td>\n",
       "    </tr>\n",
       "    <tr>\n",
       "      <th>t</th>\n",
       "      <td>265.184</td>\n",
       "    </tr>\n",
       "    <tr>\n",
       "      <th>u</th>\n",
       "      <td>334.194</td>\n",
       "    </tr>\n",
       "    <tr>\n",
       "      <th rowspan=\"3\" valign=\"top\">Eastern Victoria</th>\n",
       "      <th>h</th>\n",
       "      <td>2387.626</td>\n",
       "    </tr>\n",
       "    <tr>\n",
       "      <th>t</th>\n",
       "      <td>193.000</td>\n",
       "    </tr>\n",
       "    <tr>\n",
       "      <th>u</th>\n",
       "      <td>317.500</td>\n",
       "    </tr>\n",
       "    <tr>\n",
       "      <th rowspan=\"3\" valign=\"top\">Northern Metropolitan</th>\n",
       "      <th>h</th>\n",
       "      <td>564.831</td>\n",
       "    </tr>\n",
       "    <tr>\n",
       "      <th>t</th>\n",
       "      <td>318.401</td>\n",
       "    </tr>\n",
       "    <tr>\n",
       "      <th>u</th>\n",
       "      <td>478.405</td>\n",
       "    </tr>\n",
       "    <tr>\n",
       "      <th rowspan=\"2\" valign=\"top\">Northern Victoria</th>\n",
       "      <th>h</th>\n",
       "      <td>4065.523</td>\n",
       "    </tr>\n",
       "    <tr>\n",
       "      <th>u</th>\n",
       "      <td>315.000</td>\n",
       "    </tr>\n",
       "    <tr>\n",
       "      <th rowspan=\"3\" valign=\"top\">South-Eastern Metropolitan</th>\n",
       "      <th>h</th>\n",
       "      <td>687.662</td>\n",
       "    </tr>\n",
       "    <tr>\n",
       "      <th>t</th>\n",
       "      <td>299.275</td>\n",
       "    </tr>\n",
       "    <tr>\n",
       "      <th>u</th>\n",
       "      <td>340.320</td>\n",
       "    </tr>\n",
       "    <tr>\n",
       "      <th rowspan=\"3\" valign=\"top\">Southern Metropolitan</th>\n",
       "      <th>h</th>\n",
       "      <td>582.439</td>\n",
       "    </tr>\n",
       "    <tr>\n",
       "      <th>t</th>\n",
       "      <td>317.910</td>\n",
       "    </tr>\n",
       "    <tr>\n",
       "      <th>u</th>\n",
       "      <td>474.881</td>\n",
       "    </tr>\n",
       "    <tr>\n",
       "      <th rowspan=\"3\" valign=\"top\">Western Metropolitan</th>\n",
       "      <th>h</th>\n",
       "      <td>565.367</td>\n",
       "    </tr>\n",
       "    <tr>\n",
       "      <th>t</th>\n",
       "      <td>251.313</td>\n",
       "    </tr>\n",
       "    <tr>\n",
       "      <th>u</th>\n",
       "      <td>576.397</td>\n",
       "    </tr>\n",
       "    <tr>\n",
       "      <th>Western Victoria</th>\n",
       "      <th>h</th>\n",
       "      <td>1099.458</td>\n",
       "    </tr>\n",
       "  </tbody>\n",
       "</table>\n",
       "</div>"
      ],
      "text/plain": [
       "                                 Landsize\n",
       "Regionname                 Type          \n",
       "Eastern Metropolitan       h      746.675\n",
       "                           t      265.184\n",
       "                           u      334.194\n",
       "Eastern Victoria           h     2387.626\n",
       "                           t      193.000\n",
       "                           u      317.500\n",
       "Northern Metropolitan      h      564.831\n",
       "                           t      318.401\n",
       "                           u      478.405\n",
       "Northern Victoria          h     4065.523\n",
       "                           u      315.000\n",
       "South-Eastern Metropolitan h      687.662\n",
       "                           t      299.275\n",
       "                           u      340.320\n",
       "Southern Metropolitan      h      582.439\n",
       "                           t      317.910\n",
       "                           u      474.881\n",
       "Western Metropolitan       h      565.367\n",
       "                           t      251.313\n",
       "                           u      576.397\n",
       "Western Victoria           h     1099.458"
      ]
     },
     "execution_count": 725,
     "metadata": {},
     "output_type": "execute_result"
    }
   ],
   "source": [
    "data.groupby(['Regionname','Type'])[['Landsize']].mean() #based on the regionname and type of properties finding the mean of landsize"
   ]
  },
  {
   "cell_type": "code",
   "execution_count": 726,
   "metadata": {
    "id": "RcQ_h_exAZzw"
   },
   "outputs": [],
   "source": [
    "#replacing the missing data with its mean value\n",
    "data['Landsize'] = data['Landsize'].fillna(value = data.groupby(['Regionname','Type'])['Landsize'].transform('mean'))"
   ]
  },
  {
   "cell_type": "code",
   "execution_count": 727,
   "metadata": {
    "colab": {
     "base_uri": "https://localhost:8080/",
     "height": 237
    },
    "id": "KPhwAuMQEjWQ",
    "outputId": "86fc7de4-467d-4ff2-b93f-4c3285d5c9a3"
   },
   "outputs": [
    {
     "data": {
      "text/plain": [
       "Suburb               0\n",
       "Address              0\n",
       "Rooms                0\n",
       "Type                 0\n",
       "Price             7609\n",
       "Method               0\n",
       "SellerG              0\n",
       "Date                 0\n",
       "Distance             0\n",
       "Postcode             0\n",
       "Bedroom2             0\n",
       "Bathroom             0\n",
       "Car                  0\n",
       "Landsize             0\n",
       "BuildingArea     21109\n",
       "YearBuilt        19300\n",
       "CouncilArea          0\n",
       "Lattitude         7970\n",
       "Longtitude        7970\n",
       "Regionname           0\n",
       "Propertycount        0\n",
       "dtype: int64"
      ]
     },
     "execution_count": 727,
     "metadata": {},
     "output_type": "execute_result"
    }
   ],
   "source": [
    "# checking if all the missing values were replaced in Landsize column\n",
    "data.isnull().sum()"
   ]
  },
  {
   "cell_type": "code",
   "execution_count": 728,
   "metadata": {
    "colab": {
     "base_uri": "https://localhost:8080/",
     "height": 730
    },
    "id": "APfKwU6mFZo0",
    "outputId": "3fa7ac06-0e65-443d-8a5f-06cb0c2bf3c0"
   },
   "outputs": [
    {
     "data": {
      "text/html": [
       "<div>\n",
       "<style scoped>\n",
       "    .dataframe tbody tr th:only-of-type {\n",
       "        vertical-align: middle;\n",
       "    }\n",
       "\n",
       "    .dataframe tbody tr th {\n",
       "        vertical-align: top;\n",
       "    }\n",
       "\n",
       "    .dataframe thead th {\n",
       "        text-align: right;\n",
       "    }\n",
       "</style>\n",
       "<table border=\"1\" class=\"dataframe\">\n",
       "  <thead>\n",
       "    <tr style=\"text-align: right;\">\n",
       "      <th></th>\n",
       "      <th>Suburb</th>\n",
       "      <th>Address</th>\n",
       "      <th>Rooms</th>\n",
       "      <th>Type</th>\n",
       "      <th>Price</th>\n",
       "      <th>Method</th>\n",
       "      <th>SellerG</th>\n",
       "      <th>Date</th>\n",
       "      <th>Distance</th>\n",
       "      <th>Postcode</th>\n",
       "      <th>...</th>\n",
       "      <th>Bathroom</th>\n",
       "      <th>Car</th>\n",
       "      <th>Landsize</th>\n",
       "      <th>BuildingArea</th>\n",
       "      <th>YearBuilt</th>\n",
       "      <th>CouncilArea</th>\n",
       "      <th>Lattitude</th>\n",
       "      <th>Longtitude</th>\n",
       "      <th>Regionname</th>\n",
       "      <th>Propertycount</th>\n",
       "    </tr>\n",
       "  </thead>\n",
       "  <tbody>\n",
       "    <tr>\n",
       "      <th>0</th>\n",
       "      <td>Abbotsford</td>\n",
       "      <td>68 Studley St</td>\n",
       "      <td>2</td>\n",
       "      <td>h</td>\n",
       "      <td>NaN</td>\n",
       "      <td>SS</td>\n",
       "      <td>Jellis</td>\n",
       "      <td>2016-03-09</td>\n",
       "      <td>2.500</td>\n",
       "      <td>3067.000</td>\n",
       "      <td>...</td>\n",
       "      <td>1.000</td>\n",
       "      <td>1.000</td>\n",
       "      <td>126.000</td>\n",
       "      <td>NaN</td>\n",
       "      <td>NaN</td>\n",
       "      <td>Yarra City Council</td>\n",
       "      <td>-37.801</td>\n",
       "      <td>144.996</td>\n",
       "      <td>Northern Metropolitan</td>\n",
       "      <td>4019.000</td>\n",
       "    </tr>\n",
       "    <tr>\n",
       "      <th>3</th>\n",
       "      <td>Abbotsford</td>\n",
       "      <td>18/659 Victoria St</td>\n",
       "      <td>3</td>\n",
       "      <td>u</td>\n",
       "      <td>NaN</td>\n",
       "      <td>VB</td>\n",
       "      <td>Rounds</td>\n",
       "      <td>2016-04-02</td>\n",
       "      <td>2.500</td>\n",
       "      <td>3067.000</td>\n",
       "      <td>...</td>\n",
       "      <td>2.000</td>\n",
       "      <td>1.000</td>\n",
       "      <td>0.000</td>\n",
       "      <td>NaN</td>\n",
       "      <td>NaN</td>\n",
       "      <td>Yarra City Council</td>\n",
       "      <td>-37.811</td>\n",
       "      <td>145.012</td>\n",
       "      <td>Northern Metropolitan</td>\n",
       "      <td>4019.000</td>\n",
       "    </tr>\n",
       "    <tr>\n",
       "      <th>7</th>\n",
       "      <td>Abbotsford</td>\n",
       "      <td>16 Maugie St</td>\n",
       "      <td>4</td>\n",
       "      <td>h</td>\n",
       "      <td>NaN</td>\n",
       "      <td>SN</td>\n",
       "      <td>Nelson</td>\n",
       "      <td>2016-06-08</td>\n",
       "      <td>2.500</td>\n",
       "      <td>3067.000</td>\n",
       "      <td>...</td>\n",
       "      <td>2.000</td>\n",
       "      <td>2.000</td>\n",
       "      <td>400.000</td>\n",
       "      <td>220.000</td>\n",
       "      <td>2006.000</td>\n",
       "      <td>Yarra City Council</td>\n",
       "      <td>-37.797</td>\n",
       "      <td>144.996</td>\n",
       "      <td>Northern Metropolitan</td>\n",
       "      <td>4019.000</td>\n",
       "    </tr>\n",
       "    <tr>\n",
       "      <th>8</th>\n",
       "      <td>Abbotsford</td>\n",
       "      <td>53 Turner St</td>\n",
       "      <td>2</td>\n",
       "      <td>h</td>\n",
       "      <td>NaN</td>\n",
       "      <td>S</td>\n",
       "      <td>Biggin</td>\n",
       "      <td>2016-06-08</td>\n",
       "      <td>2.500</td>\n",
       "      <td>3067.000</td>\n",
       "      <td>...</td>\n",
       "      <td>1.000</td>\n",
       "      <td>2.000</td>\n",
       "      <td>201.000</td>\n",
       "      <td>NaN</td>\n",
       "      <td>1900.000</td>\n",
       "      <td>Yarra City Council</td>\n",
       "      <td>-37.800</td>\n",
       "      <td>144.997</td>\n",
       "      <td>Northern Metropolitan</td>\n",
       "      <td>4019.000</td>\n",
       "    </tr>\n",
       "    <tr>\n",
       "      <th>9</th>\n",
       "      <td>Abbotsford</td>\n",
       "      <td>99 Turner St</td>\n",
       "      <td>2</td>\n",
       "      <td>h</td>\n",
       "      <td>NaN</td>\n",
       "      <td>S</td>\n",
       "      <td>Collins</td>\n",
       "      <td>2016-06-08</td>\n",
       "      <td>2.500</td>\n",
       "      <td>3067.000</td>\n",
       "      <td>...</td>\n",
       "      <td>2.000</td>\n",
       "      <td>1.000</td>\n",
       "      <td>202.000</td>\n",
       "      <td>NaN</td>\n",
       "      <td>1900.000</td>\n",
       "      <td>Yarra City Council</td>\n",
       "      <td>-37.800</td>\n",
       "      <td>144.999</td>\n",
       "      <td>Northern Metropolitan</td>\n",
       "      <td>4019.000</td>\n",
       "    </tr>\n",
       "    <tr>\n",
       "      <th>...</th>\n",
       "      <td>...</td>\n",
       "      <td>...</td>\n",
       "      <td>...</td>\n",
       "      <td>...</td>\n",
       "      <td>...</td>\n",
       "      <td>...</td>\n",
       "      <td>...</td>\n",
       "      <td>...</td>\n",
       "      <td>...</td>\n",
       "      <td>...</td>\n",
       "      <td>...</td>\n",
       "      <td>...</td>\n",
       "      <td>...</td>\n",
       "      <td>...</td>\n",
       "      <td>...</td>\n",
       "      <td>...</td>\n",
       "      <td>...</td>\n",
       "      <td>...</td>\n",
       "      <td>...</td>\n",
       "      <td>...</td>\n",
       "      <td>...</td>\n",
       "    </tr>\n",
       "    <tr>\n",
       "      <th>34822</th>\n",
       "      <td>West Melbourne</td>\n",
       "      <td>9/11 Anderson St</td>\n",
       "      <td>3</td>\n",
       "      <td>u</td>\n",
       "      <td>NaN</td>\n",
       "      <td>S</td>\n",
       "      <td>hockingstuart</td>\n",
       "      <td>2018-02-24</td>\n",
       "      <td>3.100</td>\n",
       "      <td>3003.000</td>\n",
       "      <td>...</td>\n",
       "      <td>1.168</td>\n",
       "      <td>1.087</td>\n",
       "      <td>478.405</td>\n",
       "      <td>NaN</td>\n",
       "      <td>NaN</td>\n",
       "      <td>Melbourne City Council</td>\n",
       "      <td>NaN</td>\n",
       "      <td>NaN</td>\n",
       "      <td>Northern Metropolitan</td>\n",
       "      <td>2230.000</td>\n",
       "    </tr>\n",
       "    <tr>\n",
       "      <th>34827</th>\n",
       "      <td>Wheelers Hill</td>\n",
       "      <td>112 Jells Rd</td>\n",
       "      <td>4</td>\n",
       "      <td>h</td>\n",
       "      <td>NaN</td>\n",
       "      <td>PN</td>\n",
       "      <td>Harcourts</td>\n",
       "      <td>2018-02-24</td>\n",
       "      <td>16.700</td>\n",
       "      <td>3150.000</td>\n",
       "      <td>...</td>\n",
       "      <td>2.000</td>\n",
       "      <td>2.000</td>\n",
       "      <td>714.000</td>\n",
       "      <td>NaN</td>\n",
       "      <td>NaN</td>\n",
       "      <td>Monash City Council</td>\n",
       "      <td>-37.903</td>\n",
       "      <td>145.190</td>\n",
       "      <td>South-Eastern Metropolitan</td>\n",
       "      <td>7392.000</td>\n",
       "    </tr>\n",
       "    <tr>\n",
       "      <th>34828</th>\n",
       "      <td>Wheelers Hill</td>\n",
       "      <td>20 Mill Ct</td>\n",
       "      <td>3</td>\n",
       "      <td>h</td>\n",
       "      <td>NaN</td>\n",
       "      <td>S</td>\n",
       "      <td>Barry</td>\n",
       "      <td>2018-02-24</td>\n",
       "      <td>16.700</td>\n",
       "      <td>3150.000</td>\n",
       "      <td>...</td>\n",
       "      <td>2.000</td>\n",
       "      <td>2.000</td>\n",
       "      <td>677.000</td>\n",
       "      <td>NaN</td>\n",
       "      <td>NaN</td>\n",
       "      <td>Monash City Council</td>\n",
       "      <td>-37.919</td>\n",
       "      <td>145.191</td>\n",
       "      <td>South-Eastern Metropolitan</td>\n",
       "      <td>7392.000</td>\n",
       "    </tr>\n",
       "    <tr>\n",
       "      <th>34838</th>\n",
       "      <td>Windsor</td>\n",
       "      <td>13 Mary St</td>\n",
       "      <td>4</td>\n",
       "      <td>h</td>\n",
       "      <td>NaN</td>\n",
       "      <td>W</td>\n",
       "      <td>Jellis</td>\n",
       "      <td>2018-02-24</td>\n",
       "      <td>4.600</td>\n",
       "      <td>3181.000</td>\n",
       "      <td>...</td>\n",
       "      <td>3.000</td>\n",
       "      <td>2.000</td>\n",
       "      <td>279.000</td>\n",
       "      <td>237.000</td>\n",
       "      <td>2009.000</td>\n",
       "      <td>Port Phillip City Council</td>\n",
       "      <td>-37.854</td>\n",
       "      <td>144.997</td>\n",
       "      <td>Southern Metropolitan</td>\n",
       "      <td>4380.000</td>\n",
       "    </tr>\n",
       "    <tr>\n",
       "      <th>34843</th>\n",
       "      <td>Wollert</td>\n",
       "      <td>15 Rockgarden Wy</td>\n",
       "      <td>3</td>\n",
       "      <td>h</td>\n",
       "      <td>NaN</td>\n",
       "      <td>SP</td>\n",
       "      <td>LJ</td>\n",
       "      <td>2018-02-24</td>\n",
       "      <td>25.500</td>\n",
       "      <td>3750.000</td>\n",
       "      <td>...</td>\n",
       "      <td>2.000</td>\n",
       "      <td>2.000</td>\n",
       "      <td>268.000</td>\n",
       "      <td>135.000</td>\n",
       "      <td>2016.000</td>\n",
       "      <td>Whittlesea City Council</td>\n",
       "      <td>-37.611</td>\n",
       "      <td>145.043</td>\n",
       "      <td>Northern Metropolitan</td>\n",
       "      <td>2940.000</td>\n",
       "    </tr>\n",
       "  </tbody>\n",
       "</table>\n",
       "<p>7609 rows × 21 columns</p>\n",
       "</div>"
      ],
      "text/plain": [
       "               Suburb             Address  Rooms Type  Price Method  \\\n",
       "0          Abbotsford       68 Studley St      2    h    NaN     SS   \n",
       "3          Abbotsford  18/659 Victoria St      3    u    NaN     VB   \n",
       "7          Abbotsford        16 Maugie St      4    h    NaN     SN   \n",
       "8          Abbotsford        53 Turner St      2    h    NaN      S   \n",
       "9          Abbotsford        99 Turner St      2    h    NaN      S   \n",
       "...               ...                 ...    ...  ...    ...    ...   \n",
       "34822  West Melbourne    9/11 Anderson St      3    u    NaN      S   \n",
       "34827   Wheelers Hill        112 Jells Rd      4    h    NaN     PN   \n",
       "34828   Wheelers Hill          20 Mill Ct      3    h    NaN      S   \n",
       "34838         Windsor          13 Mary St      4    h    NaN      W   \n",
       "34843         Wollert    15 Rockgarden Wy      3    h    NaN     SP   \n",
       "\n",
       "             SellerG       Date  Distance  Postcode  ...  Bathroom   Car  \\\n",
       "0             Jellis 2016-03-09     2.500  3067.000  ...     1.000 1.000   \n",
       "3             Rounds 2016-04-02     2.500  3067.000  ...     2.000 1.000   \n",
       "7             Nelson 2016-06-08     2.500  3067.000  ...     2.000 2.000   \n",
       "8             Biggin 2016-06-08     2.500  3067.000  ...     1.000 2.000   \n",
       "9            Collins 2016-06-08     2.500  3067.000  ...     2.000 1.000   \n",
       "...              ...        ...       ...       ...  ...       ...   ...   \n",
       "34822  hockingstuart 2018-02-24     3.100  3003.000  ...     1.168 1.087   \n",
       "34827      Harcourts 2018-02-24    16.700  3150.000  ...     2.000 2.000   \n",
       "34828          Barry 2018-02-24    16.700  3150.000  ...     2.000 2.000   \n",
       "34838         Jellis 2018-02-24     4.600  3181.000  ...     3.000 2.000   \n",
       "34843             LJ 2018-02-24    25.500  3750.000  ...     2.000 2.000   \n",
       "\n",
       "       Landsize  BuildingArea  YearBuilt                CouncilArea Lattitude  \\\n",
       "0       126.000           NaN        NaN         Yarra City Council   -37.801   \n",
       "3         0.000           NaN        NaN         Yarra City Council   -37.811   \n",
       "7       400.000       220.000   2006.000         Yarra City Council   -37.797   \n",
       "8       201.000           NaN   1900.000         Yarra City Council   -37.800   \n",
       "9       202.000           NaN   1900.000         Yarra City Council   -37.800   \n",
       "...         ...           ...        ...                        ...       ...   \n",
       "34822   478.405           NaN        NaN     Melbourne City Council       NaN   \n",
       "34827   714.000           NaN        NaN        Monash City Council   -37.903   \n",
       "34828   677.000           NaN        NaN        Monash City Council   -37.919   \n",
       "34838   279.000       237.000   2009.000  Port Phillip City Council   -37.854   \n",
       "34843   268.000       135.000   2016.000    Whittlesea City Council   -37.611   \n",
       "\n",
       "       Longtitude                  Regionname Propertycount  \n",
       "0         144.996       Northern Metropolitan      4019.000  \n",
       "3         145.012       Northern Metropolitan      4019.000  \n",
       "7         144.996       Northern Metropolitan      4019.000  \n",
       "8         144.997       Northern Metropolitan      4019.000  \n",
       "9         144.999       Northern Metropolitan      4019.000  \n",
       "...           ...                         ...           ...  \n",
       "34822         NaN       Northern Metropolitan      2230.000  \n",
       "34827     145.190  South-Eastern Metropolitan      7392.000  \n",
       "34828     145.191  South-Eastern Metropolitan      7392.000  \n",
       "34838     144.997       Southern Metropolitan      4380.000  \n",
       "34843     145.043       Northern Metropolitan      2940.000  \n",
       "\n",
       "[7609 rows x 21 columns]"
      ]
     },
     "execution_count": 728,
     "metadata": {},
     "output_type": "execute_result"
    }
   ],
   "source": [
    "data.loc[data['Price'].isnull()==True]"
   ]
  },
  {
   "cell_type": "code",
   "execution_count": 729,
   "metadata": {
    "colab": {
     "base_uri": "https://localhost:8080/",
     "height": 739
    },
    "id": "h7Q2aM0TFj-b",
    "outputId": "be151593-63a2-4fc8-dedb-b902bad6fb8b"
   },
   "outputs": [
    {
     "data": {
      "text/html": [
       "<div>\n",
       "<style scoped>\n",
       "    .dataframe tbody tr th:only-of-type {\n",
       "        vertical-align: middle;\n",
       "    }\n",
       "\n",
       "    .dataframe tbody tr th {\n",
       "        vertical-align: top;\n",
       "    }\n",
       "\n",
       "    .dataframe thead th {\n",
       "        text-align: right;\n",
       "    }\n",
       "</style>\n",
       "<table border=\"1\" class=\"dataframe\">\n",
       "  <thead>\n",
       "    <tr style=\"text-align: right;\">\n",
       "      <th></th>\n",
       "      <th></th>\n",
       "      <th>Price</th>\n",
       "    </tr>\n",
       "    <tr>\n",
       "      <th>Regionname</th>\n",
       "      <th>Type</th>\n",
       "      <th></th>\n",
       "    </tr>\n",
       "  </thead>\n",
       "  <tbody>\n",
       "    <tr>\n",
       "      <th rowspan=\"3\" valign=\"top\">Eastern Metropolitan</th>\n",
       "      <th>h</th>\n",
       "      <td>1197360.101</td>\n",
       "    </tr>\n",
       "    <tr>\n",
       "      <th>t</th>\n",
       "      <td>927265.156</td>\n",
       "    </tr>\n",
       "    <tr>\n",
       "      <th>u</th>\n",
       "      <td>705566.246</td>\n",
       "    </tr>\n",
       "    <tr>\n",
       "      <th rowspan=\"3\" valign=\"top\">Eastern Victoria</th>\n",
       "      <th>h</th>\n",
       "      <td>722405.547</td>\n",
       "    </tr>\n",
       "    <tr>\n",
       "      <th>t</th>\n",
       "      <td>665000.000</td>\n",
       "    </tr>\n",
       "    <tr>\n",
       "      <th>u</th>\n",
       "      <td>477200.000</td>\n",
       "    </tr>\n",
       "    <tr>\n",
       "      <th rowspan=\"3\" valign=\"top\">Northern Metropolitan</th>\n",
       "      <th>h</th>\n",
       "      <td>975948.115</td>\n",
       "    </tr>\n",
       "    <tr>\n",
       "      <th>t</th>\n",
       "      <td>728163.400</td>\n",
       "    </tr>\n",
       "    <tr>\n",
       "      <th>u</th>\n",
       "      <td>570048.846</td>\n",
       "    </tr>\n",
       "    <tr>\n",
       "      <th rowspan=\"2\" valign=\"top\">Northern Victoria</th>\n",
       "      <th>h</th>\n",
       "      <td>620095.679</td>\n",
       "    </tr>\n",
       "    <tr>\n",
       "      <th>u</th>\n",
       "      <td>553000.000</td>\n",
       "    </tr>\n",
       "    <tr>\n",
       "      <th rowspan=\"3\" valign=\"top\">South-Eastern Metropolitan</th>\n",
       "      <th>h</th>\n",
       "      <td>934607.256</td>\n",
       "    </tr>\n",
       "    <tr>\n",
       "      <th>t</th>\n",
       "      <td>858741.597</td>\n",
       "    </tr>\n",
       "    <tr>\n",
       "      <th>u</th>\n",
       "      <td>570781.081</td>\n",
       "    </tr>\n",
       "    <tr>\n",
       "      <th rowspan=\"3\" valign=\"top\">Southern Metropolitan</th>\n",
       "      <th>h</th>\n",
       "      <td>1848269.396</td>\n",
       "    </tr>\n",
       "    <tr>\n",
       "      <th>t</th>\n",
       "      <td>1224860.144</td>\n",
       "    </tr>\n",
       "    <tr>\n",
       "      <th>u</th>\n",
       "      <td>690872.641</td>\n",
       "    </tr>\n",
       "    <tr>\n",
       "      <th rowspan=\"3\" valign=\"top\">Western Metropolitan</th>\n",
       "      <th>h</th>\n",
       "      <td>911765.855</td>\n",
       "    </tr>\n",
       "    <tr>\n",
       "      <th>t</th>\n",
       "      <td>731762.019</td>\n",
       "    </tr>\n",
       "    <tr>\n",
       "      <th>u</th>\n",
       "      <td>506385.873</td>\n",
       "    </tr>\n",
       "    <tr>\n",
       "      <th>Western Victoria</th>\n",
       "      <th>h</th>\n",
       "      <td>435747.340</td>\n",
       "    </tr>\n",
       "  </tbody>\n",
       "</table>\n",
       "</div>"
      ],
      "text/plain": [
       "                                      Price\n",
       "Regionname                 Type            \n",
       "Eastern Metropolitan       h    1197360.101\n",
       "                           t     927265.156\n",
       "                           u     705566.246\n",
       "Eastern Victoria           h     722405.547\n",
       "                           t     665000.000\n",
       "                           u     477200.000\n",
       "Northern Metropolitan      h     975948.115\n",
       "                           t     728163.400\n",
       "                           u     570048.846\n",
       "Northern Victoria          h     620095.679\n",
       "                           u     553000.000\n",
       "South-Eastern Metropolitan h     934607.256\n",
       "                           t     858741.597\n",
       "                           u     570781.081\n",
       "Southern Metropolitan      h    1848269.396\n",
       "                           t    1224860.144\n",
       "                           u     690872.641\n",
       "Western Metropolitan       h     911765.855\n",
       "                           t     731762.019\n",
       "                           u     506385.873\n",
       "Western Victoria           h     435747.340"
      ]
     },
     "execution_count": 729,
     "metadata": {},
     "output_type": "execute_result"
    }
   ],
   "source": [
    "data.groupby(['Regionname','Type'])[['Price']].mean()"
   ]
  },
  {
   "cell_type": "code",
   "execution_count": 730,
   "metadata": {
    "id": "GouBOtMbFqAz"
   },
   "outputs": [],
   "source": [
    "\n",
    "# replacing the missing data with its mean price based on region and type of the house\n",
    "data['Price'] = data['Price'].fillna(value = data.groupby(['Regionname','Type'])['Price'].transform('mean'))"
   ]
  },
  {
   "cell_type": "code",
   "execution_count": 731,
   "metadata": {
    "colab": {
     "base_uri": "https://localhost:8080/",
     "height": 206
    },
    "id": "vtlqo8SNFw46",
    "outputId": "fc556d37-615a-46d1-8db9-a11daccaa417"
   },
   "outputs": [
    {
     "data": {
      "text/plain": [
       "Suburb               0\n",
       "Address              0\n",
       "Rooms                0\n",
       "Type                 0\n",
       "Price                0\n",
       "Method               0\n",
       "SellerG              0\n",
       "Date                 0\n",
       "Distance             0\n",
       "Postcode             0\n",
       "Bedroom2             0\n",
       "Bathroom             0\n",
       "Car                  0\n",
       "Landsize             0\n",
       "BuildingArea     21109\n",
       "YearBuilt        19300\n",
       "CouncilArea          0\n",
       "Lattitude         7970\n",
       "Longtitude        7970\n",
       "Regionname           0\n",
       "Propertycount        0\n",
       "dtype: int64"
      ]
     },
     "execution_count": 731,
     "metadata": {},
     "output_type": "execute_result"
    }
   ],
   "source": [
    "# checking if all the missing values were replaced in price column\n",
    "data.isnull().sum()"
   ]
  },
  {
   "cell_type": "code",
   "execution_count": 732,
   "metadata": {
    "colab": {
     "base_uri": "https://localhost:8080/",
     "height": 739
    },
    "id": "LqqRXU8IF4uq",
    "outputId": "b1566d68-26df-4b4a-8fad-96a23ccd90ba"
   },
   "outputs": [
    {
     "data": {
      "text/html": [
       "<div>\n",
       "<style scoped>\n",
       "    .dataframe tbody tr th:only-of-type {\n",
       "        vertical-align: middle;\n",
       "    }\n",
       "\n",
       "    .dataframe tbody tr th {\n",
       "        vertical-align: top;\n",
       "    }\n",
       "\n",
       "    .dataframe thead th {\n",
       "        text-align: right;\n",
       "    }\n",
       "</style>\n",
       "<table border=\"1\" class=\"dataframe\">\n",
       "  <thead>\n",
       "    <tr style=\"text-align: right;\">\n",
       "      <th></th>\n",
       "      <th>Lattitude</th>\n",
       "      <th>Longtitude</th>\n",
       "    </tr>\n",
       "    <tr>\n",
       "      <th>Regionname</th>\n",
       "      <th></th>\n",
       "      <th></th>\n",
       "    </tr>\n",
       "  </thead>\n",
       "  <tbody>\n",
       "    <tr>\n",
       "      <th>Eastern Metropolitan</th>\n",
       "      <td>-37.798</td>\n",
       "      <td>145.145</td>\n",
       "    </tr>\n",
       "    <tr>\n",
       "      <th>Eastern Victoria</th>\n",
       "      <td>-37.935</td>\n",
       "      <td>145.329</td>\n",
       "    </tr>\n",
       "    <tr>\n",
       "      <th>Northern Metropolitan</th>\n",
       "      <td>-37.736</td>\n",
       "      <td>144.984</td>\n",
       "    </tr>\n",
       "    <tr>\n",
       "      <th>Northern Victoria</th>\n",
       "      <td>-37.589</td>\n",
       "      <td>144.847</td>\n",
       "    </tr>\n",
       "    <tr>\n",
       "      <th>South-Eastern Metropolitan</th>\n",
       "      <td>-37.998</td>\n",
       "      <td>145.153</td>\n",
       "    </tr>\n",
       "    <tr>\n",
       "      <th>Southern Metropolitan</th>\n",
       "      <td>-37.867</td>\n",
       "      <td>145.035</td>\n",
       "    </tr>\n",
       "    <tr>\n",
       "      <th>Western Metropolitan</th>\n",
       "      <td>-37.784</td>\n",
       "      <td>144.845</td>\n",
       "    </tr>\n",
       "    <tr>\n",
       "      <th>Western Victoria</th>\n",
       "      <td>-37.695</td>\n",
       "      <td>144.567</td>\n",
       "    </tr>\n",
       "  </tbody>\n",
       "</table>\n",
       "</div>"
      ],
      "text/plain": [
       "                            Lattitude  Longtitude\n",
       "Regionname                                       \n",
       "Eastern Metropolitan          -37.798     145.145\n",
       "Eastern Victoria              -37.935     145.329\n",
       "Northern Metropolitan         -37.736     144.984\n",
       "Northern Victoria             -37.589     144.847\n",
       "South-Eastern Metropolitan    -37.998     145.153\n",
       "Southern Metropolitan         -37.867     145.035\n",
       "Western Metropolitan          -37.784     144.845\n",
       "Western Victoria              -37.695     144.567"
      ]
     },
     "execution_count": 732,
     "metadata": {},
     "output_type": "execute_result"
    }
   ],
   "source": [
    "# checking the average number of bedrooms, bathrooms, and car parking spaces in a region\n",
    "data.groupby(['Regionname'])[['Lattitude','Longtitude']].mean()"
   ]
  },
  {
   "cell_type": "code",
   "execution_count": 733,
   "metadata": {
    "id": "h3gjjfH5Hgx7"
   },
   "outputs": [],
   "source": [
    "# grouping data on region and type of property\n",
    "# finding the median of Lattitude and logtitude for each group and replacing the missing data with it\n",
    "data['Lattitude'] = data['Lattitude'].fillna(value = data.groupby(['Regionname'])['Lattitude'].transform('mean'))\n",
    "data['Longtitude'] = data['Longtitude'].fillna(value = data.groupby(['Regionname'])['Longtitude'].transform('mean'))"
   ]
  },
  {
   "cell_type": "code",
   "execution_count": 734,
   "metadata": {
    "colab": {
     "base_uri": "https://localhost:8080/",
     "height": 143
    },
    "id": "Gi-DoiCqIf53",
    "outputId": "e3947086-5991-4c61-8509-ed78acda3314"
   },
   "outputs": [
    {
     "data": {
      "text/plain": [
       "Suburb               0\n",
       "Address              0\n",
       "Rooms                0\n",
       "Type                 0\n",
       "Price                0\n",
       "Method               0\n",
       "SellerG              0\n",
       "Date                 0\n",
       "Distance             0\n",
       "Postcode             0\n",
       "Bedroom2             0\n",
       "Bathroom             0\n",
       "Car                  0\n",
       "Landsize             0\n",
       "BuildingArea     21109\n",
       "YearBuilt        19300\n",
       "CouncilArea          0\n",
       "Lattitude            0\n",
       "Longtitude           0\n",
       "Regionname           0\n",
       "Propertycount        0\n",
       "dtype: int64"
      ]
     },
     "execution_count": 734,
     "metadata": {},
     "output_type": "execute_result"
    }
   ],
   "source": [
    "# checking if all the missing values were replaced column\n",
    "data.isnull().sum()"
   ]
  },
  {
   "cell_type": "markdown",
   "metadata": {
    "id": "GtaQ2qzxIzIE"
   },
   "source": [
    "* We will not do any replacement of values for Building Area and Year Built as these columns have more than 50% of missing data. \n",
    "* Any replacement in these columns will result in creation of new data points which will not be reliable to extract insights from."
   ]
  },
  {
   "cell_type": "code",
   "execution_count": 735,
   "metadata": {
    "colab": {
     "base_uri": "https://localhost:8080/",
     "height": 403
    },
    "id": "oVYGyRggI7cE",
    "outputId": "fa38b1ed-d7ff-444e-edcf-bc1d013a537c"
   },
   "outputs": [
    {
     "data": {
      "text/plain": [
       "Suburb           0\n",
       "Address          0\n",
       "Rooms            0\n",
       "Type             0\n",
       "Price            0\n",
       "Method           0\n",
       "SellerG          0\n",
       "Date             0\n",
       "Distance         0\n",
       "Postcode         0\n",
       "Bedroom2         0\n",
       "Bathroom         0\n",
       "Car              0\n",
       "Landsize         0\n",
       "BuildingArea     0\n",
       "YearBuilt        0\n",
       "CouncilArea      0\n",
       "Lattitude        0\n",
       "Longtitude       0\n",
       "Regionname       0\n",
       "Propertycount    0\n",
       "dtype: int64"
      ]
     },
     "execution_count": 735,
     "metadata": {},
     "output_type": "execute_result"
    }
   ],
   "source": [
    "#remove the coloumn buildingarea and yearbuilt\n",
    "new_data = data[data['BuildingArea'].notnull()]\n",
    "new_data = new_data[new_data['YearBuilt'].notnull()]\n",
    "new_data.isnull().sum()"
   ]
  },
  {
   "cell_type": "markdown",
   "metadata": {
    "id": "Z6ZaQP3TMImz"
   },
   "source": [
    "# **Business questions**"
   ]
  },
  {
   "cell_type": "markdown",
   "metadata": {
    "id": "uUgDaEEefZng"
   },
   "source": [
    "1. What is the average price of houses in each suburb of Melbourne? Which suburb has the highest and lowest average price?"
   ]
  },
  {
   "cell_type": "code",
   "execution_count": 736,
   "metadata": {
    "colab": {
     "base_uri": "https://localhost:8080/"
    },
    "id": "WA63dItPfcKj",
    "outputId": "ce018be2-9ecc-4040-c3cb-039c85d62ec2"
   },
   "outputs": [
    {
     "name": "stdout",
     "output_type": "stream",
     "text": [
      "Average prices by suburb:\n",
      " Suburb\n",
      "Abbotsford      988551.249\n",
      "Aberfeldie     1257764.482\n",
      "Airport West    758642.232\n",
      "Albanvale       670237.805\n",
      "Albert Park    1899865.098\n",
      "                   ...    \n",
      "Yallambie       828251.826\n",
      "Yarra Glen      620000.000\n",
      "Yarraville      968389.568\n",
      "croydon         730000.000\n",
      "viewbank        885000.000\n",
      "Name: Price, Length: 350, dtype: float64\n",
      "Suburb with highest average price:  Canterbury\n",
      "Suburb with lowest average price:  Darley\n"
     ]
    }
   ],
   "source": [
    "# Compute the average price of houses in each suburb\n",
    "prices = data.groupby('Suburb')['Price'].mean()\n",
    "# Find the suburb with the highest average price\n",
    "highest_price_suburb = prices.idxmax()\n",
    "# Find the suburb with the lowest average price\n",
    "lowest_price_suburb = prices.idxmin()\n",
    "# Print the results\n",
    "print(\"Average prices by suburb:\\n\", prices)\n",
    "print(\"Suburb with highest average price: \", highest_price_suburb)\n",
    "print(\"Suburb with lowest average price: \", lowest_price_suburb)"
   ]
  },
  {
   "cell_type": "markdown",
   "metadata": {
    "id": "RPjgAcVkkdwL"
   },
   "source": [
    "1. Suburb with highest average price is Canterbury\n",
    "2. Suburb with lowest average price is Darley\n"
   ]
  },
  {
   "cell_type": "markdown",
   "metadata": {
    "id": "2Yd6GXdSoscf"
   },
   "source": [
    "2. Which suburbs in Melbourne have the highest average property prices?"
   ]
  },
  {
   "cell_type": "code",
   "execution_count": 737,
   "metadata": {
    "colab": {
     "base_uri": "https://localhost:8080/",
     "height": 687
    },
    "id": "qVyoIWtMpECg",
    "outputId": "c6fab166-d028-4448-828b-df32ee1eb7c5"
   },
   "outputs": [
    {
     "name": "stdout",
     "output_type": "stream",
     "text": [
      "Top 10 suburbs with highest average property prices:\n",
      " Suburb\n",
      "Canterbury     2135274.566\n",
      "Middle Park    2066715.755\n",
      "Albert Park    1899865.098\n",
      "Brighton       1891819.044\n",
      "Deepdene       1889288.030\n",
      "Malvern        1844347.995\n",
      "Balwyn         1824914.972\n",
      "Camberwell     1794876.938\n",
      "Balwyn North   1790108.591\n",
      "Kew            1754203.473\n",
      "Name: Price, dtype: float64\n"
     ]
    },
    {
     "data": {
      "image/png": "[encoded data removed]",
      "text/plain": [
       "<Figure size 720x432 with 1 Axes>"
      ]
     },
     "metadata": {
      "needs_background": "light"
     },
     "output_type": "display_data"
    }
   ],
   "source": [
    "\n",
    "# Group the data by suburb and calculate the mean property price for each suburb\n",
    "suburb_data = data.groupby('Suburb')['Price'].mean().sort_values(ascending=False)\n",
    "\n",
    "# Print the top 10 suburbs with the highest average property prices\n",
    "print('Top 10 suburbs with highest average property prices:\\n', suburb_data.head(10))\n",
    "\n",
    "# Visualize the average property prices by suburb using a bar chart\n",
    "suburb_data.head(10).plot(kind='bar', figsize=(10, 6))\n",
    "plt.title('Average Property Prices by Suburb (Top 10)')\n",
    "plt.xlabel('Suburb')\n",
    "plt.ylabel('Average Price ($)')\n",
    "plt.show()\n",
    "\n",
    "\n"
   ]
  },
  {
   "cell_type": "markdown",
   "metadata": {
    "id": "UvHrAkQLxQEu"
   },
   "source": [
    "The subrubs which has highest average prices are canterbury followed by albert park, middle park and balwyn nort"
   ]
  },
  {
   "cell_type": "markdown",
   "metadata": {
    "id": "PnyoXHM3ttjh"
   },
   "source": [
    "3. Which types of houses are more in melbourne?"
   ]
  },
  {
   "cell_type": "code",
   "execution_count": 738,
   "metadata": {
    "colab": {
     "base_uri": "https://localhost:8080/",
     "height": 379
    },
    "id": "nVv-g9Axt0jj",
    "outputId": "d252bb39-e38f-4fbb-b2b0-7f9c03376b2a"
   },
   "outputs": [
    {
     "name": "stdout",
     "output_type": "stream",
     "text": [
      "Type\n",
      "h    23978\n",
      "t     3578\n",
      "u     7294\n",
      "dtype: int64\n"
     ]
    },
    {
     "data": {
      "image/png": "[encoded data removed]",
      "text/plain": [
       "<Figure size 432x288 with 1 Axes>"
      ]
     },
     "metadata": {
      "needs_background": "light"
     },
     "output_type": "display_data"
    }
   ],
   "source": [
    "property = data.groupby('Type')#grouping data based on the type of the property\n",
    "property_counts = property.size()#counting them together based on type which got in 1st step\n",
    "print(property_counts)\n",
    "# Plot the counts of each property type\n",
    "fig, ax = plt.subplots()\n",
    "property_counts.plot(kind='bar')\n",
    "ax.set_xlabel('Property Type')\n",
    "ax.set_ylabel('Count')\n",
    "ax.set_title('Count of Properties by Type')\n",
    "plt.show()"
   ]
  },
  {
   "cell_type": "markdown",
   "metadata": {
    "id": "E8Jcfvcoz7ID"
   },
   "source": [
    "There are more 'h' type of houses in melbourne its about 23978 and next comes the 'u' type with with7294 in count and last is the 't' type  3578 in count"
   ]
  },
  {
   "cell_type": "markdown",
   "metadata": {
    "id": "7sTo8q_iytzk"
   },
   "source": [
    "4. Are there any patterns or trends in the type of properties that are being bought or sold in Melbourne?"
   ]
  },
  {
   "cell_type": "code",
   "execution_count": 739,
   "metadata": {
    "colab": {
     "base_uri": "https://localhost:8080/",
     "height": 498
    },
    "id": "8uyC2KiLEHMp",
    "outputId": "6d5621d3-70c3-4926-ce57-6ecd149b814e"
   },
   "outputs": [
    {
     "data": {
      "image/png": "[encoded data removed]",
      "text/plain": [
       "<Figure size 432x288 with 1 Axes>"
      ]
     },
     "metadata": {
      "needs_background": "light"
     },
     "output_type": "display_data"
    },
    {
     "name": "stdout",
     "output_type": "stream",
     "text": [
      "              Suburb  SalesCount      Price\n",
      "171    Hopetoun Park           1 435747.340\n",
      "92   Cranbourne East           1 440000.000\n",
      "179         Kalkallo           1 615000.000\n",
      "346       Yarra Glen           1 620000.000\n",
      "87        Coldstream           1 630000.000\n",
      "             Suburb  SalesCount       Price\n",
      "264       Reservoir         844  711946.978\n",
      "32   Bentleigh East         583 1193510.851\n",
      "265        Richmond         552 1022277.014\n",
      "149       Glen Iris         491 1587272.588\n",
      "261         Preston         485  880732.164\n"
     ]
    }
   ],
   "source": [
    "# Group data by suburb and count number of properties sold\n",
    "sales_by_suburb = data.groupby('Suburb')['Price'].count().reset_index()\n",
    "sales_by_suburb = sales_by_suburb.rename(columns={'Price': 'SalesCount'})\n",
    "\n",
    "# Calculate mean price for each suburb\n",
    "mean_price_by_suburb = data.groupby('Suburb')['Price'].mean().reset_index()\n",
    "\n",
    "# Merge mean price with sales count\n",
    "sales_by_suburb = pd.merge(sales_by_suburb, mean_price_by_suburb, on='Suburb')\n",
    "\n",
    "# Visualize data with scatter plot\n",
    "plt.scatter(sales_by_suburb['SalesCount'], sales_by_suburb['Price'])\n",
    "plt.xlabel('Number of properties sold')\n",
    "plt.ylabel('Median housing price')\n",
    "plt.show()\n",
    "\n",
    "# Suburbs with highest sales and lowest median price\n",
    "print(sales_by_suburb.sort_values(by=['SalesCount', 'Price']).head())\n",
    "\n",
    "# Suburbs with lowest sales and highest median price\n",
    "print(sales_by_suburb.sort_values(by=['SalesCount', 'Price'], ascending=[False, False]).head())\n"
   ]
  },
  {
   "cell_type": "markdown",
   "metadata": {
    "id": "xWMmhUvDFhZ4"
   },
   "source": [
    "The suburbs with the highest number of properties sold tend to have lower median prices, while the suburbs with the lowest number of properties sold tend to have higher median prices."
   ]
  },
  {
   "cell_type": "markdown",
   "metadata": {
    "id": "0B7VI6YGGfOE"
   },
   "source": [
    "5. How do housing prices in Melbourne vary by year?"
   ]
  },
  {
   "cell_type": "code",
   "execution_count": 740,
   "metadata": {
    "colab": {
     "base_uri": "https://localhost:8080/"
    },
    "id": "yV8Nd9a0GiG5",
    "outputId": "5766e716-20ef-49f6-96ef-18014067088c"
   },
   "outputs": [
    {
     "name": "stdout",
     "output_type": "stream",
     "text": [
      "   Year       Price\n",
      "0  2016 1101496.241\n",
      "1  2017 1077483.234\n",
      "2  2018 1042143.431\n"
     ]
    }
   ],
   "source": [
    "\n",
    "\n",
    "# Extract the year and month from the Date column\n",
    "data['Year'] = data['Date'].dt.year\n",
    "data['Month'] = data['Date'].dt.month\n",
    "\n",
    "# Group the data by year and month, and calculate the median price\n",
    "price_by_month = data.groupby(['Year'])['Price'].mean().reset_index()\n",
    "\n",
    "# Print the median price for each month\n",
    "print(price_by_month[['Year', 'Price']])"
   ]
  },
  {
   "cell_type": "markdown",
   "metadata": {
    "id": "BfLWcSO9h7hL"
   },
   "source": [
    "The average price has decreased year by year from 2016 to 2018 for the properties"
   ]
  },
  {
   "cell_type": "markdown",
   "metadata": {
    "id": "oWddDxz4el-d"
   },
   "source": [
    "6. who is the best seller in each year from 2016 to 2018?\n"
   ]
  },
  {
   "cell_type": "code",
   "execution_count": 741,
   "metadata": {
    "colab": {
     "base_uri": "https://localhost:8080/"
    },
    "id": "pnSpEbEGiSGJ",
    "outputId": "38f09209-3095-4b9a-f0d6-b92fec9fae5e"
   },
   "outputs": [
    {
     "name": "stdout",
     "output_type": "stream",
     "text": [
      "The top seller in 2018 was Barry.\n"
     ]
    }
   ],
   "source": [
    "# Group the dataset by year and seller and count the number of sales\n",
    "grouped = data.groupby(['Year', 'SellerG']).size().reset_index(name='Sales')\n",
    "\n",
    "# Sort the dataframe by year and sales in descending order\n",
    "sorted_df = grouped.sort_values(['Year', 'Sales'], ascending=[True, False])\n",
    "\n",
    "# Select the top seller for the desired year (e.g., 2018)\n",
    "top_seller = sorted_df.loc[sorted_df['Year'] == 2018]['SellerG'].iloc[0]\n",
    "\n",
    "print(f\"The top seller in 2018 was {top_seller}.\")\n"
   ]
  },
  {
   "cell_type": "markdown",
   "metadata": {
    "id": "s62ft_aYAEhq"
   },
   "source": [
    "The top seller in 2018 was Barry."
   ]
  },
  {
   "cell_type": "markdown",
   "metadata": {
    "id": "YpnsM9dk2Xm8"
   },
   "source": [
    "7. which type of houses in melbourne cost more and less?"
   ]
  },
  {
   "cell_type": "code",
   "execution_count": 742,
   "metadata": {
    "colab": {
     "base_uri": "https://localhost:8080/",
     "height": 295
    },
    "id": "Qnvw0Byf2d7z",
    "outputId": "95b45c75-2886-4096-9959-032fee9b5697"
   },
   "outputs": [
    {
     "data": {
      "image/png": "[encoded data removed]",
      "text/plain": [
       "<Figure size 432x288 with 1 Axes>"
      ]
     },
     "metadata": {
      "needs_background": "light"
     },
     "output_type": "display_data"
    }
   ],
   "source": [
    "# Check the  price of each property type\n",
    "sns.barplot(x='Type', y='Price', data=data, order=['h', 't', 'u'])\n",
    "plt.title(' Price by Property Type')\n",
    "plt.show()"
   ]
  },
  {
   "cell_type": "markdown",
   "metadata": {
    "id": "NJHXm9ui2xqX"
   },
   "source": [
    "As expected 'h' type cost more as it will be near to suburbs then the 't' types as the square meters will be more and last the u type cost less. "
   ]
  },
  {
   "cell_type": "markdown",
   "metadata": {
    "id": "Qe5k6UDm3nH6"
   },
   "source": [
    "8. how does price of the property depend on the distance?"
   ]
  },
  {
   "cell_type": "code",
   "execution_count": 743,
   "metadata": {
    "colab": {
     "base_uri": "https://localhost:8080/",
     "height": 295
    },
    "id": "rQcb1mx43nbp",
    "outputId": "0dd0d4bd-5ce1-4052-c48c-2f1ec90195c9"
   },
   "outputs": [
    {
     "data": {
      "image/png": "[encoded data removed]",
      "text/plain": [
       "<Figure size 1080x504 with 1 Axes>"
      ]
     },
     "metadata": {
      "needs_background": "light"
     },
     "output_type": "display_data"
    },
    {
     "data": {
      "text/html": [
       "<div>\n",
       "<style scoped>\n",
       "    .dataframe tbody tr th:only-of-type {\n",
       "        vertical-align: middle;\n",
       "    }\n",
       "\n",
       "    .dataframe tbody tr th {\n",
       "        vertical-align: top;\n",
       "    }\n",
       "\n",
       "    .dataframe thead th {\n",
       "        text-align: right;\n",
       "    }\n",
       "</style>\n",
       "<table border=\"1\" class=\"dataframe\">\n",
       "  <thead>\n",
       "    <tr style=\"text-align: right;\">\n",
       "      <th></th>\n",
       "      <th>Distance</th>\n",
       "      <th>Price</th>\n",
       "    </tr>\n",
       "  </thead>\n",
       "  <tbody>\n",
       "    <tr>\n",
       "      <th>0</th>\n",
       "      <td>10.500</td>\n",
       "      <td>11200000.000</td>\n",
       "    </tr>\n",
       "    <tr>\n",
       "      <th>1</th>\n",
       "      <td>18.800</td>\n",
       "      <td>9000000.000</td>\n",
       "    </tr>\n",
       "    <tr>\n",
       "      <th>2</th>\n",
       "      <td>9.000</td>\n",
       "      <td>8000000.000</td>\n",
       "    </tr>\n",
       "    <tr>\n",
       "      <th>3</th>\n",
       "      <td>5.300</td>\n",
       "      <td>7650000.000</td>\n",
       "    </tr>\n",
       "    <tr>\n",
       "      <th>4</th>\n",
       "      <td>6.300</td>\n",
       "      <td>7000000.000</td>\n",
       "    </tr>\n",
       "    <tr>\n",
       "      <th>...</th>\n",
       "      <td>...</td>\n",
       "      <td>...</td>\n",
       "    </tr>\n",
       "    <tr>\n",
       "      <th>210</th>\n",
       "      <td>33.000</td>\n",
       "      <td>630000.000</td>\n",
       "    </tr>\n",
       "    <tr>\n",
       "      <th>211</th>\n",
       "      <td>33.800</td>\n",
       "      <td>630000.000</td>\n",
       "    </tr>\n",
       "    <tr>\n",
       "      <th>212</th>\n",
       "      <td>31.400</td>\n",
       "      <td>620000.000</td>\n",
       "    </tr>\n",
       "    <tr>\n",
       "      <th>213</th>\n",
       "      <td>35.500</td>\n",
       "      <td>601000.000</td>\n",
       "    </tr>\n",
       "    <tr>\n",
       "      <th>214</th>\n",
       "      <td>37.500</td>\n",
       "      <td>545000.000</td>\n",
       "    </tr>\n",
       "  </tbody>\n",
       "</table>\n",
       "<p>215 rows × 2 columns</p>\n",
       "</div>"
      ],
      "text/plain": [
       "     Distance        Price\n",
       "0      10.500 11200000.000\n",
       "1      18.800  9000000.000\n",
       "2       9.000  8000000.000\n",
       "3       5.300  7650000.000\n",
       "4       6.300  7000000.000\n",
       "..        ...          ...\n",
       "210    33.000   630000.000\n",
       "211    33.800   630000.000\n",
       "212    31.400   620000.000\n",
       "213    35.500   601000.000\n",
       "214    37.500   545000.000\n",
       "\n",
       "[215 rows x 2 columns]"
      ]
     },
     "execution_count": 743,
     "metadata": {},
     "output_type": "execute_result"
    }
   ],
   "source": [
    "# Create a line plot of distance versus price\n",
    "plt.figure(figsize=(15,7))\n",
    "sns.lineplot(data=data, x='Distance', y ='Price',ci=None)\n",
    "plt.show()\n",
    "data.groupby(['Distance'])['Price'].max().sort_values(ascending = False).reset_index()"
   ]
  },
  {
   "cell_type": "markdown",
   "metadata": {
    "id": "wgG9xFZv_gcn"
   },
   "source": [
    "As you can see in the graph the price of the property dcreases as the distance is more from the central.\n",
    "As we can see in the graph if the distance increases the the price of the properties decreases.\n",
    "The maximum price of the property is within 10kms from the CBD."
   ]
  },
  {
   "cell_type": "markdown",
   "metadata": {},
   "source": [
    "9. What percentage of the property cost more than 200000 dollars?"
   ]
  },
  {
   "cell_type": "code",
   "execution_count": 744,
   "metadata": {},
   "outputs": [
    {
     "data": {
      "text/plain": [
       "40.72883787661406"
      ]
     },
     "execution_count": 744,
     "metadata": {},
     "output_type": "execute_result"
    }
   ],
   "source": [
    "Per_price=data.loc[data['Price']>1000000,'Price'].count()/data['Price'].count()\n",
    "Per_price = Per_price*100\n",
    "Per_price"
   ]
  },
  {
   "cell_type": "markdown",
   "metadata": {},
   "source": [
    "more than 41% of the property price is more than 1000000 AUD"
   ]
  },
  {
   "cell_type": "markdown",
   "metadata": {
    "id": "8IkKKDibigX6"
   },
   "source": [
    "# implementation of classes and functions"
   ]
  },
  {
   "cell_type": "code",
   "execution_count": 745,
   "metadata": {
    "colab": {
     "base_uri": "https://localhost:8080/"
    },
    "id": "zzR1i2j9ikEo",
    "outputId": "aad2bd7d-0c38-4915-ad9e-ad2c3a0ed5e6"
   },
   "outputs": [
    {
     "name": "stdout",
     "output_type": "stream",
     "text": [
      "           Suburb           Address  Rooms Type       Price Method  \\\n",
      "76   Airport West       33 Bowes Av      5    h 1035000.000      S   \n",
      "81   Airport West  11 Harrington Rd      6    h  725000.000     SP   \n",
      "96   Airport West      241 Parer Rd      5    h  755000.000     PI   \n",
      "153   Albert Park      23 Finlay St      5    h 2100000.000      S   \n",
      "175   Albert Park    143 Kerferd Rd      7    h         NaN     SN   \n",
      "\n",
      "           SellerG        Date  Distance  Postcode  ...  Bathroom   Car  \\\n",
      "76         Airport   6/08/2016    13.500  3042.000  ...       NaN   NaN   \n",
      "81           Barry   7/05/2016    13.500  3042.000  ...     3.000 2.000   \n",
      "96      Propertyau  14/05/2016    13.500  3042.000  ...     2.000 2.000   \n",
      "153           Greg  10/12/2016     3.300  3206.000  ...     2.000 1.000   \n",
      "175  hockingstuart  24/09/2016     3.300  3206.000  ...     7.000 0.000   \n",
      "\n",
      "     Landsize  BuildingArea  YearBuilt                 CouncilArea Lattitude  \\\n",
      "76        NaN           NaN        NaN  Moonee Valley City Council       NaN   \n",
      "81    976.000       186.000   1980.000  Moonee Valley City Council   -37.724   \n",
      "96    596.000           NaN        NaN  Moonee Valley City Council   -37.725   \n",
      "153   237.000           NaN        NaN   Port Phillip City Council   -37.844   \n",
      "175   435.000           NaN        NaN   Port Phillip City Council   -37.847   \n",
      "\n",
      "     Longtitude             Regionname Propertycount  \n",
      "76          NaN   Western Metropolitan      3464.000  \n",
      "81      144.874   Western Metropolitan      3464.000  \n",
      "96      144.870   Western Metropolitan      3464.000  \n",
      "153     144.956  Southern Metropolitan      3280.000  \n",
      "175     144.954  Southern Metropolitan      3280.000  \n",
      "\n",
      "[5 rows x 21 columns]\n"
     ]
    }
   ],
   "source": [
    "class MelbourneHousingDataset:\n",
    "    def __init__(self, filepath):\n",
    "        self.data = pd.read_csv(filepath)\n",
    "    \n",
    "    def filter_by_rooms(self, min_room, max_room):\n",
    "        return self.data[(self.data['Rooms'] >= min_room) & (self.data['Rooms'] <= max_room)]\n",
    "\n",
    "def main():\n",
    "    # Create a MelbourneHousingDataset object\n",
    "    dataset = MelbourneHousingDataset('C:/Users/Anagha/Downloads/archive (4)/Melbourne_housing_FULL.csv')\n",
    "    # Filter the dataset by price\n",
    "    filtered_data = dataset.filter_by_rooms(5, 7)\n",
    "    # Print the first five rows of the filtered dataset\n",
    "    print(filtered_data.head())\n",
    "#calling main function\n",
    "if __name__ == '__main__':\n",
    "    main()\n",
    "\n"
   ]
  },
  {
   "cell_type": "markdown",
   "metadata": {
    "id": "bc_x6ND86rn9"
   },
   "source": [
    "# Business Insights:\n",
    "1. There are 34857 rows and 21 columns in the dataset\n",
    "2.Highest number of the properties are in Reservoir suburb followed by properties in Bentleigh East suburb.\n",
    "3. Most of the properties are of type 'h' that is houses/cottages/villas hence company should focus more on 'h' type of property for selling to customers as it is more.\n",
    "4. Top 5 sellers of properties are - Jellis,Nelson, Barry, hockingstuart, and marshall, hence the company should focus on them while buying the properties.\n",
    "5. The distance of the property from the key facilities play a cruicial role in deciding the selling price of a property.Therefore the properties which are near to center cost more.\n",
    "6. The people are interested more in the vintage properties hence the prices of the properties which are older has more price.\n",
    "7. Suburb with highest average price is Canterbury Suburb with lowest average price is Darley, so the investors can keep this in mind while investing in the properties if the price is main criterion.\n",
    "8. There are more 'h' type of houses than 't' and 'u' hence the customers might have more option for h type houses.\n",
    "9. The main factor for increase in the price is distance if the distance is less from central then price of propert is more.\n",
    "10. The 'h' type houses cost more compared to other types.\n",
    "11. if the property is within 15km from CBD the price is more hence the customers should keep in mind while buying or selling the property."
   ]
  }
 ],
 "metadata": {
  "colab": {
   "provenance": []
  },
  "kernelspec": {
   "display_name": "Python 3",
   "language": "python",
   "name": "python3"
  },
  "language_info": {
   "codemirror_mode": {
    "name": "ipython",
    "version": 3
   },
   "file_extension": ".py",
   "mimetype": "text/x-python",
   "name": "python",
   "nbconvert_exporter": "python",
   "pygments_lexer": "ipython3",
   "version": "3.8.8"
  }
 },
 "nbformat": 4,
 "nbformat_minor": 1
}
